{
 "cells": [
  {
   "cell_type": "markdown",
   "metadata": {},
   "source": [
    "# Text Clustering\n",
    "\n",
    "Peeraya Khantaruangsakul 63070501054"
   ]
  },
  {
   "cell_type": "code",
   "execution_count": 1,
   "metadata": {},
   "outputs": [
    {
     "name": "stderr",
     "output_type": "stream",
     "text": [
      "[nltk_data] Downloading package stopwords to\n",
      "[nltk_data]     C:\\Users\\USER\\AppData\\Roaming\\nltk_data...\n",
      "[nltk_data]   Package stopwords is already up-to-date!\n"
     ]
    },
    {
     "data": {
      "text/plain": [
       "True"
      ]
     },
     "execution_count": 1,
     "metadata": {},
     "output_type": "execute_result"
    }
   ],
   "source": [
    "# Import necessary libraries\n",
    "import pandas as pd\n",
    "import numpy as np\n",
    "import nltk\n",
    "from nltk.corpus import stopwords\n",
    "nltk.download('stopwords')"
   ]
  },
  {
   "cell_type": "code",
   "execution_count": 2,
   "metadata": {},
   "outputs": [],
   "source": [
    "# Preprocess the text data\n",
    "stop_words = set(stopwords.words('english'))"
   ]
  },
  {
   "cell_type": "markdown",
   "metadata": {},
   "source": [
    "### Read data"
   ]
  },
  {
   "cell_type": "code",
   "execution_count": 3,
   "metadata": {},
   "outputs": [],
   "source": [
    "import gzip\n",
    "import pickle\n",
    "import requests\n",
    "\n",
    "# url = 'http://fastdata.in.th/CPE/CPE393/consumer_complaint_dataset.data'\n",
    "# response = requests.get(url)\n",
    "\n",
    "# with open('consumer_complaint_dataset.data', 'wb') as f:\n",
    "#     f.write(response.content)\n",
    "\n",
    "with gzip.open('consumer_complaint_dataset.data', 'rb') as f:\n",
    "    df = pickle.load(f)"
   ]
  },
  {
   "cell_type": "code",
   "execution_count": 4,
   "metadata": {},
   "outputs": [
    {
     "data": {
      "text/html": [
       "<div>\n",
       "<style scoped>\n",
       "    .dataframe tbody tr th:only-of-type {\n",
       "        vertical-align: middle;\n",
       "    }\n",
       "\n",
       "    .dataframe tbody tr th {\n",
       "        vertical-align: top;\n",
       "    }\n",
       "\n",
       "    .dataframe thead th {\n",
       "        text-align: right;\n",
       "    }\n",
       "</style>\n",
       "<table border=\"1\" class=\"dataframe\">\n",
       "  <thead>\n",
       "    <tr style=\"text-align: right;\">\n",
       "      <th></th>\n",
       "      <th>topic</th>\n",
       "      <th>input</th>\n",
       "    </tr>\n",
       "  </thead>\n",
       "  <tbody>\n",
       "    <tr>\n",
       "      <th>0</th>\n",
       "      <td>Debt collection</td>\n",
       "      <td>transworld systems inc. \\nis trying to collect...</td>\n",
       "    </tr>\n",
       "    <tr>\n",
       "      <th>1</th>\n",
       "      <td>Credit reporting, credit repair services, or o...</td>\n",
       "      <td>I would like to request the suppression of the...</td>\n",
       "    </tr>\n",
       "    <tr>\n",
       "      <th>2</th>\n",
       "      <td>Debt collection</td>\n",
       "      <td>Over the past 2 weeks, I have been receiving e...</td>\n",
       "    </tr>\n",
       "    <tr>\n",
       "      <th>3</th>\n",
       "      <td>Credit reporting, credit repair services, or o...</td>\n",
       "      <td>I HAD FILED WITH CFPB ON XX/XX/XXXX19 TO HAVE ...</td>\n",
       "    </tr>\n",
       "    <tr>\n",
       "      <th>4</th>\n",
       "      <td>Credit reporting, credit repair services, or o...</td>\n",
       "      <td>I have several accounts that the balance is in...</td>\n",
       "    </tr>\n",
       "    <tr>\n",
       "      <th>...</th>\n",
       "      <td>...</td>\n",
       "      <td>...</td>\n",
       "    </tr>\n",
       "    <tr>\n",
       "      <th>492250</th>\n",
       "      <td>Consumer Loan</td>\n",
       "      <td>I was on automatic payment for my car loan. In...</td>\n",
       "    </tr>\n",
       "    <tr>\n",
       "      <th>492251</th>\n",
       "      <td>Debt collection</td>\n",
       "      <td>I recieved a collections call from an unknown ...</td>\n",
       "    </tr>\n",
       "    <tr>\n",
       "      <th>492252</th>\n",
       "      <td>Mortgage</td>\n",
       "      <td>On XXXX XXXX, 2015, I contacted XXXX XXXX, who...</td>\n",
       "    </tr>\n",
       "    <tr>\n",
       "      <th>492253</th>\n",
       "      <td>Mortgage</td>\n",
       "      <td>I can not get from chase who services my mortg...</td>\n",
       "    </tr>\n",
       "    <tr>\n",
       "      <th>492254</th>\n",
       "      <td>Credit card</td>\n",
       "      <td>I made a payment to CITI XXXX Credit Card on X...</td>\n",
       "    </tr>\n",
       "  </tbody>\n",
       "</table>\n",
       "<p>492255 rows × 2 columns</p>\n",
       "</div>"
      ],
      "text/plain": [
       "                                                    topic  \\\n",
       "0                                         Debt collection   \n",
       "1       Credit reporting, credit repair services, or o...   \n",
       "2                                         Debt collection   \n",
       "3       Credit reporting, credit repair services, or o...   \n",
       "4       Credit reporting, credit repair services, or o...   \n",
       "...                                                   ...   \n",
       "492250                                      Consumer Loan   \n",
       "492251                                    Debt collection   \n",
       "492252                                           Mortgage   \n",
       "492253                                           Mortgage   \n",
       "492254                                        Credit card   \n",
       "\n",
       "                                                    input  \n",
       "0       transworld systems inc. \\nis trying to collect...  \n",
       "1       I would like to request the suppression of the...  \n",
       "2       Over the past 2 weeks, I have been receiving e...  \n",
       "3       I HAD FILED WITH CFPB ON XX/XX/XXXX19 TO HAVE ...  \n",
       "4       I have several accounts that the balance is in...  \n",
       "...                                                   ...  \n",
       "492250  I was on automatic payment for my car loan. In...  \n",
       "492251  I recieved a collections call from an unknown ...  \n",
       "492252  On XXXX XXXX, 2015, I contacted XXXX XXXX, who...  \n",
       "492253  I can not get from chase who services my mortg...  \n",
       "492254  I made a payment to CITI XXXX Credit Card on X...  \n",
       "\n",
       "[492255 rows x 2 columns]"
      ]
     },
     "execution_count": 4,
     "metadata": {},
     "output_type": "execute_result"
    }
   ],
   "source": [
    "df"
   ]
  },
  {
   "cell_type": "code",
   "execution_count": 5,
   "metadata": {},
   "outputs": [
    {
     "data": {
      "text/plain": [
       "(492255, 2)"
      ]
     },
     "execution_count": 5,
     "metadata": {},
     "output_type": "execute_result"
    }
   ],
   "source": [
    "df.shape"
   ]
  },
  {
   "cell_type": "code",
   "execution_count": 6,
   "metadata": {},
   "outputs": [
    {
     "data": {
      "text/html": [
       "<div>\n",
       "<style scoped>\n",
       "    .dataframe tbody tr th:only-of-type {\n",
       "        vertical-align: middle;\n",
       "    }\n",
       "\n",
       "    .dataframe tbody tr th {\n",
       "        vertical-align: top;\n",
       "    }\n",
       "\n",
       "    .dataframe thead th {\n",
       "        text-align: right;\n",
       "    }\n",
       "</style>\n",
       "<table border=\"1\" class=\"dataframe\">\n",
       "  <thead>\n",
       "    <tr style=\"text-align: right;\">\n",
       "      <th>col_0</th>\n",
       "      <th>Count</th>\n",
       "    </tr>\n",
       "    <tr>\n",
       "      <th>topic</th>\n",
       "      <th></th>\n",
       "    </tr>\n",
       "  </thead>\n",
       "  <tbody>\n",
       "    <tr>\n",
       "      <th>Credit reporting, credit repair services, or other personal consumer reports</th>\n",
       "      <td>145090</td>\n",
       "    </tr>\n",
       "    <tr>\n",
       "      <th>Debt collection</th>\n",
       "      <td>106946</td>\n",
       "    </tr>\n",
       "    <tr>\n",
       "      <th>Mortgage</th>\n",
       "      <td>61581</td>\n",
       "    </tr>\n",
       "    <tr>\n",
       "      <th>Credit card or prepaid card</th>\n",
       "      <td>32144</td>\n",
       "    </tr>\n",
       "    <tr>\n",
       "      <th>Credit reporting</th>\n",
       "      <td>31588</td>\n",
       "    </tr>\n",
       "    <tr>\n",
       "      <th>Student loan</th>\n",
       "      <td>25083</td>\n",
       "    </tr>\n",
       "    <tr>\n",
       "      <th>Checking or savings account</th>\n",
       "      <td>19153</td>\n",
       "    </tr>\n",
       "    <tr>\n",
       "      <th>Credit card</th>\n",
       "      <td>18838</td>\n",
       "    </tr>\n",
       "    <tr>\n",
       "      <th>Bank account or service</th>\n",
       "      <td>14885</td>\n",
       "    </tr>\n",
       "    <tr>\n",
       "      <th>Consumer Loan</th>\n",
       "      <td>9473</td>\n",
       "    </tr>\n",
       "    <tr>\n",
       "      <th>Vehicle loan or lease</th>\n",
       "      <td>8204</td>\n",
       "    </tr>\n",
       "    <tr>\n",
       "      <th>Money transfer, virtual currency, or money service</th>\n",
       "      <td>7865</td>\n",
       "    </tr>\n",
       "    <tr>\n",
       "      <th>Payday loan, title loan, or personal loan</th>\n",
       "      <td>6404</td>\n",
       "    </tr>\n",
       "    <tr>\n",
       "      <th>Payday loan</th>\n",
       "      <td>1746</td>\n",
       "    </tr>\n",
       "    <tr>\n",
       "      <th>Money transfers</th>\n",
       "      <td>1497</td>\n",
       "    </tr>\n",
       "    <tr>\n",
       "      <th>Prepaid card</th>\n",
       "      <td>1450</td>\n",
       "    </tr>\n",
       "    <tr>\n",
       "      <th>Other financial service</th>\n",
       "      <td>292</td>\n",
       "    </tr>\n",
       "    <tr>\n",
       "      <th>Virtual currency</th>\n",
       "      <td>16</td>\n",
       "    </tr>\n",
       "  </tbody>\n",
       "</table>\n",
       "</div>"
      ],
      "text/plain": [
       "col_0                                                Count\n",
       "topic                                                     \n",
       "Credit reporting, credit repair services, or ot...  145090\n",
       "Debt collection                                     106946\n",
       "Mortgage                                             61581\n",
       "Credit card or prepaid card                          32144\n",
       "Credit reporting                                     31588\n",
       "Student loan                                         25083\n",
       "Checking or savings account                          19153\n",
       "Credit card                                          18838\n",
       "Bank account or service                              14885\n",
       "Consumer Loan                                         9473\n",
       "Vehicle loan or lease                                 8204\n",
       "Money transfer, virtual currency, or money service    7865\n",
       "Payday loan, title loan, or personal loan             6404\n",
       "Payday loan                                           1746\n",
       "Money transfers                                       1497\n",
       "Prepaid card                                          1450\n",
       "Other financial service                                292\n",
       "Virtual currency                                        16"
      ]
     },
     "execution_count": 6,
     "metadata": {},
     "output_type": "execute_result"
    }
   ],
   "source": [
    "pd.crosstab(df.topic, columns='Count').sort_values(by='Count', ascending=False)"
   ]
  },
  {
   "cell_type": "code",
   "execution_count": 7,
   "metadata": {},
   "outputs": [],
   "source": [
    "df.loc[df['topic'] == 'Credit reporting', 'topic'] = 'Credit reporting, credit repair services, or other personal consumer reports'\n",
    "df.loc[df['topic'] == 'Credit card', 'topic'] = 'Credit card or prepaid card'\n",
    "df.loc[df['topic'] == 'Prepaid card', 'topic'] = 'Credit card or prepaid card'\n",
    "df.loc[df['topic'] == 'Payday loan', 'topic'] = 'Payday loan, title loan, or personal loan'\n",
    "df.loc[df['topic'] == 'Virtual currency', 'topic'] = 'Money transfer, virtual currency, or money service'\n",
    "df.loc[df['topic'] == 'Money transfers', 'topic'] = 'Money transfer, virtual currency, or money service'\n",
    "df = df.loc[df['topic'] != 'Other financial service']"
   ]
  },
  {
   "cell_type": "code",
   "execution_count": 8,
   "metadata": {},
   "outputs": [
    {
     "data": {
      "text/html": [
       "<div>\n",
       "<style scoped>\n",
       "    .dataframe tbody tr th:only-of-type {\n",
       "        vertical-align: middle;\n",
       "    }\n",
       "\n",
       "    .dataframe tbody tr th {\n",
       "        vertical-align: top;\n",
       "    }\n",
       "\n",
       "    .dataframe thead th {\n",
       "        text-align: right;\n",
       "    }\n",
       "</style>\n",
       "<table border=\"1\" class=\"dataframe\">\n",
       "  <thead>\n",
       "    <tr style=\"text-align: right;\">\n",
       "      <th>col_0</th>\n",
       "      <th>Count</th>\n",
       "    </tr>\n",
       "    <tr>\n",
       "      <th>topic</th>\n",
       "      <th></th>\n",
       "    </tr>\n",
       "  </thead>\n",
       "  <tbody>\n",
       "    <tr>\n",
       "      <th>Credit reporting, credit repair services, or other personal consumer reports</th>\n",
       "      <td>176678</td>\n",
       "    </tr>\n",
       "    <tr>\n",
       "      <th>Debt collection</th>\n",
       "      <td>106946</td>\n",
       "    </tr>\n",
       "    <tr>\n",
       "      <th>Mortgage</th>\n",
       "      <td>61581</td>\n",
       "    </tr>\n",
       "    <tr>\n",
       "      <th>Credit card or prepaid card</th>\n",
       "      <td>52432</td>\n",
       "    </tr>\n",
       "    <tr>\n",
       "      <th>Student loan</th>\n",
       "      <td>25083</td>\n",
       "    </tr>\n",
       "    <tr>\n",
       "      <th>Checking or savings account</th>\n",
       "      <td>19153</td>\n",
       "    </tr>\n",
       "    <tr>\n",
       "      <th>Bank account or service</th>\n",
       "      <td>14885</td>\n",
       "    </tr>\n",
       "    <tr>\n",
       "      <th>Consumer Loan</th>\n",
       "      <td>9473</td>\n",
       "    </tr>\n",
       "    <tr>\n",
       "      <th>Money transfer, virtual currency, or money service</th>\n",
       "      <td>9378</td>\n",
       "    </tr>\n",
       "    <tr>\n",
       "      <th>Vehicle loan or lease</th>\n",
       "      <td>8204</td>\n",
       "    </tr>\n",
       "    <tr>\n",
       "      <th>Payday loan, title loan, or personal loan</th>\n",
       "      <td>8150</td>\n",
       "    </tr>\n",
       "  </tbody>\n",
       "</table>\n",
       "</div>"
      ],
      "text/plain": [
       "col_0                                                Count\n",
       "topic                                                     \n",
       "Credit reporting, credit repair services, or ot...  176678\n",
       "Debt collection                                     106946\n",
       "Mortgage                                             61581\n",
       "Credit card or prepaid card                          52432\n",
       "Student loan                                         25083\n",
       "Checking or savings account                          19153\n",
       "Bank account or service                              14885\n",
       "Consumer Loan                                         9473\n",
       "Money transfer, virtual currency, or money service    9378\n",
       "Vehicle loan or lease                                 8204\n",
       "Payday loan, title loan, or personal loan             8150"
      ]
     },
     "execution_count": 8,
     "metadata": {},
     "output_type": "execute_result"
    }
   ],
   "source": [
    "pd.crosstab(df.topic, columns='Count').sort_values(by='Count', ascending=False)"
   ]
  },
  {
   "cell_type": "markdown",
   "metadata": {},
   "source": [
    "### Clean it"
   ]
  },
  {
   "cell_type": "code",
   "execution_count": 9,
   "metadata": {},
   "outputs": [],
   "source": [
    "import re\n",
    "\n",
    "def preprocess_text(text):\n",
    "    tokens = nltk.word_tokenize(text.lower())\n",
    "    tokens = [token for token in tokens if token.isalpha()]\n",
    "    tokens = [token for token in tokens if token not in stop_words]\n",
    "    tokens = [re.sub(r'x{2,}', '', token) for token in tokens]\n",
    "    return \" \".join(tokens)"
   ]
  },
  {
   "cell_type": "code",
   "execution_count": 10,
   "metadata": {},
   "outputs": [
    {
     "data": {
      "text/plain": [
       "(464245, 2)"
      ]
     },
     "execution_count": 10,
     "metadata": {},
     "output_type": "execute_result"
    }
   ],
   "source": [
    "# clean data\n",
    "df = df.dropna()\n",
    "# duplicate data\n",
    "df = df.drop_duplicates()\n",
    "df.shape"
   ]
  },
  {
   "cell_type": "code",
   "execution_count": 11,
   "metadata": {},
   "outputs": [],
   "source": [
    "# preprocess text\n",
    "df['clean_input'] = df['input'].apply(preprocess_text)"
   ]
  },
  {
   "cell_type": "code",
   "execution_count": 12,
   "metadata": {},
   "outputs": [
    {
     "data": {
      "text/html": [
       "<div>\n",
       "<style scoped>\n",
       "    .dataframe tbody tr th:only-of-type {\n",
       "        vertical-align: middle;\n",
       "    }\n",
       "\n",
       "    .dataframe tbody tr th {\n",
       "        vertical-align: top;\n",
       "    }\n",
       "\n",
       "    .dataframe thead th {\n",
       "        text-align: right;\n",
       "    }\n",
       "</style>\n",
       "<table border=\"1\" class=\"dataframe\">\n",
       "  <thead>\n",
       "    <tr style=\"text-align: right;\">\n",
       "      <th></th>\n",
       "      <th>topic</th>\n",
       "      <th>input</th>\n",
       "      <th>clean_input</th>\n",
       "    </tr>\n",
       "  </thead>\n",
       "  <tbody>\n",
       "    <tr>\n",
       "      <th>0</th>\n",
       "      <td>Debt collection</td>\n",
       "      <td>transworld systems inc. \\nis trying to collect...</td>\n",
       "      <td>transworld systems trying collect debt mine ow...</td>\n",
       "    </tr>\n",
       "    <tr>\n",
       "      <th>1</th>\n",
       "      <td>Credit reporting, credit repair services, or o...</td>\n",
       "      <td>I would like to request the suppression of the...</td>\n",
       "      <td>would like request suppression following items...</td>\n",
       "    </tr>\n",
       "    <tr>\n",
       "      <th>2</th>\n",
       "      <td>Debt collection</td>\n",
       "      <td>Over the past 2 weeks, I have been receiving e...</td>\n",
       "      <td>past weeks receiving excessive amounts telepho...</td>\n",
       "    </tr>\n",
       "    <tr>\n",
       "      <th>3</th>\n",
       "      <td>Credit reporting, credit repair services, or o...</td>\n",
       "      <td>I HAD FILED WITH CFPB ON XX/XX/XXXX19 TO HAVE ...</td>\n",
       "      <td>filed cfpb listed accounts deleted stating acc...</td>\n",
       "    </tr>\n",
       "    <tr>\n",
       "      <th>4</th>\n",
       "      <td>Credit reporting, credit repair services, or o...</td>\n",
       "      <td>I have several accounts that the balance is in...</td>\n",
       "      <td>several accounts balance incorrect couple limi...</td>\n",
       "    </tr>\n",
       "    <tr>\n",
       "      <th>...</th>\n",
       "      <td>...</td>\n",
       "      <td>...</td>\n",
       "      <td>...</td>\n",
       "    </tr>\n",
       "    <tr>\n",
       "      <th>492250</th>\n",
       "      <td>Consumer Loan</td>\n",
       "      <td>I was on automatic payment for my car loan. In...</td>\n",
       "      <td>automatic payment car loan fine print supposed...</td>\n",
       "    </tr>\n",
       "    <tr>\n",
       "      <th>492251</th>\n",
       "      <td>Debt collection</td>\n",
       "      <td>I recieved a collections call from an unknown ...</td>\n",
       "      <td>recieved collections call unknown company morn...</td>\n",
       "    </tr>\n",
       "    <tr>\n",
       "      <th>492252</th>\n",
       "      <td>Mortgage</td>\n",
       "      <td>On XXXX XXXX, 2015, I contacted XXXX XXXX, who...</td>\n",
       "      <td>contacted   branch manager   gateway funding...</td>\n",
       "    </tr>\n",
       "    <tr>\n",
       "      <th>492253</th>\n",
       "      <td>Mortgage</td>\n",
       "      <td>I can not get from chase who services my mortg...</td>\n",
       "      <td>get chase services mortgage owns original loan...</td>\n",
       "    </tr>\n",
       "    <tr>\n",
       "      <th>492254</th>\n",
       "      <td>Credit card or prepaid card</td>\n",
       "      <td>I made a payment to CITI XXXX Credit Card on X...</td>\n",
       "      <td>made payment citi  credit card   using citi pr...</td>\n",
       "    </tr>\n",
       "  </tbody>\n",
       "</table>\n",
       "<p>464245 rows × 3 columns</p>\n",
       "</div>"
      ],
      "text/plain": [
       "                                                    topic  \\\n",
       "0                                         Debt collection   \n",
       "1       Credit reporting, credit repair services, or o...   \n",
       "2                                         Debt collection   \n",
       "3       Credit reporting, credit repair services, or o...   \n",
       "4       Credit reporting, credit repair services, or o...   \n",
       "...                                                   ...   \n",
       "492250                                      Consumer Loan   \n",
       "492251                                    Debt collection   \n",
       "492252                                           Mortgage   \n",
       "492253                                           Mortgage   \n",
       "492254                        Credit card or prepaid card   \n",
       "\n",
       "                                                    input  \\\n",
       "0       transworld systems inc. \\nis trying to collect...   \n",
       "1       I would like to request the suppression of the...   \n",
       "2       Over the past 2 weeks, I have been receiving e...   \n",
       "3       I HAD FILED WITH CFPB ON XX/XX/XXXX19 TO HAVE ...   \n",
       "4       I have several accounts that the balance is in...   \n",
       "...                                                   ...   \n",
       "492250  I was on automatic payment for my car loan. In...   \n",
       "492251  I recieved a collections call from an unknown ...   \n",
       "492252  On XXXX XXXX, 2015, I contacted XXXX XXXX, who...   \n",
       "492253  I can not get from chase who services my mortg...   \n",
       "492254  I made a payment to CITI XXXX Credit Card on X...   \n",
       "\n",
       "                                              clean_input  \n",
       "0       transworld systems trying collect debt mine ow...  \n",
       "1       would like request suppression following items...  \n",
       "2       past weeks receiving excessive amounts telepho...  \n",
       "3       filed cfpb listed accounts deleted stating acc...  \n",
       "4       several accounts balance incorrect couple limi...  \n",
       "...                                                   ...  \n",
       "492250  automatic payment car loan fine print supposed...  \n",
       "492251  recieved collections call unknown company morn...  \n",
       "492252    contacted   branch manager   gateway funding...  \n",
       "492253  get chase services mortgage owns original loan...  \n",
       "492254  made payment citi  credit card   using citi pr...  \n",
       "\n",
       "[464245 rows x 3 columns]"
      ]
     },
     "execution_count": 12,
     "metadata": {},
     "output_type": "execute_result"
    }
   ],
   "source": [
    "df"
   ]
  },
  {
   "cell_type": "code",
   "execution_count": 13,
   "metadata": {},
   "outputs": [
    {
     "data": {
      "text/plain": [
       "'filed cfpb listed accounts deleted stating accounts mine uploaded identity theft report prior disputed accounts supplied identity theft report received investigative results reports  trans union  third attempt dispute fraudulent accounts attached identity theft police report'"
      ]
     },
     "execution_count": 13,
     "metadata": {},
     "output_type": "execute_result"
    }
   ],
   "source": [
    "df.loc[3, 'clean_input']"
   ]
  },
  {
   "cell_type": "code",
   "execution_count": 14,
   "metadata": {},
   "outputs": [
    {
     "data": {
      "text/plain": [
       "'I HAD FILED WITH CFPB ON XX/XX/XXXX19 TO HAVE THE LISTED ACCOUNTS DELETED BY STATING THAT THESE ACCOUNTS WERE \" NOT MINE \\'\\' AND I UPLOADED MY IDENTITY THEFT REPORT. PRIOR TO XX/XX/2019 I HAD DISPUTED THESE SAME ACCOUNTS AND SUPPLIED AN IDENTITY THEFT REPORT BUT I HAVE NOT RECEIVED INVESTIGATIVE RESULTS REPORTS FROM XXXX, TRANS UNION OR XXXX. \\n\\nTHIS IS THE THIRD ATTEMPT TO DISPUTE THESE FRAUDULENT ACCOUNTS AND I HAVE ATTACHED MY IDENTITY THEFT POLICE REPORT.'"
      ]
     },
     "execution_count": 14,
     "metadata": {},
     "output_type": "execute_result"
    }
   ],
   "source": [
    "df.loc[3, 'input']"
   ]
  },
  {
   "cell_type": "markdown",
   "metadata": {},
   "source": [
    "### represent it"
   ]
  },
  {
   "cell_type": "code",
   "execution_count": 15,
   "metadata": {},
   "outputs": [],
   "source": [
    "from sklearn.feature_extraction.text import TfidfVectorizer\n",
    "\n",
    "vectorizer = TfidfVectorizer( max_features=1000, min_df=5, max_df=0.7, stop_words=stopwords.words('english'))\n",
    "X = vectorizer.fit_transform(df['clean_input'])"
   ]
  },
  {
   "cell_type": "code",
   "execution_count": 16,
   "metadata": {},
   "outputs": [
    {
     "data": {
      "text/plain": [
       "<464245x1000 sparse matrix of type '<class 'numpy.float64'>'\n",
       "\twith 20465992 stored elements in Compressed Sparse Row format>"
      ]
     },
     "execution_count": 16,
     "metadata": {},
     "output_type": "execute_result"
    }
   ],
   "source": [
    "X"
   ]
  },
  {
   "cell_type": "markdown",
   "metadata": {},
   "source": [
    "### Perform text clustering and interpret the results by KMEAN"
   ]
  },
  {
   "cell_type": "code",
   "execution_count": 17,
   "metadata": {},
   "outputs": [
    {
     "name": "stderr",
     "output_type": "stream",
     "text": [
      "c:\\Users\\USER\\AppData\\Local\\Programs\\Python\\Python311\\Lib\\site-packages\\sklearn\\cluster\\_kmeans.py:870: FutureWarning: The default value of `n_init` will change from 10 to 'auto' in 1.4. Set the value of `n_init` explicitly to suppress the warning\n",
      "  warnings.warn(\n"
     ]
    }
   ],
   "source": [
    "from sklearn.cluster import KMeans\n",
    "\n",
    "km = KMeans(n_clusters=11, random_state=42).fit(X)"
   ]
  },
  {
   "cell_type": "code",
   "execution_count": 18,
   "metadata": {},
   "outputs": [
    {
     "name": "stdout",
     "output_type": "stream",
     "text": [
      "Cluster 0: credit report inquiry inquiries information experian reporting transunion removed remove\n",
      "Cluster 1: accounts credit identity theft report information reporting victim fraudulent account\n",
      "Cluster 2: loan mortgage loans payments interest modification payment home would student\n",
      "Cluster 3: payment late payments account due made credit month would mortgage\n",
      "Cluster 4: wells fargo account mortgage loan bank home would payment credit\n",
      "Cluster 5: account credit report reporting balance closed collection paid information opened\n",
      "Cluster 6: bank account money america check funds chase checking would deposit\n",
      "Cluster 7: equifax credit information report breach reporting account security data dispute\n",
      "Cluster 8: card credit account chase charges balance would bank charge one\n",
      "Cluster 9: call phone called company told would number received calls said\n",
      "Cluster 10: debt collection credit company report letter collect validation account owe\n"
     ]
    }
   ],
   "source": [
    "order_centroids = km.cluster_centers_.argsort()[:, ::-1]\n",
    "terms = vectorizer.get_feature_names_out()\n",
    "for i in range(11):\n",
    "    print(\"Cluster %d:\" % i, end='')\n",
    "    for ind in order_centroids[i, :10]:\n",
    "        print(' %s' % terms[ind], end='')\n",
    "    print()"
   ]
  },
  {
   "cell_type": "code",
   "execution_count": 19,
   "metadata": {},
   "outputs": [
    {
     "data": {
      "text/html": [
       "<div>\n",
       "<style scoped>\n",
       "    .dataframe tbody tr th:only-of-type {\n",
       "        vertical-align: middle;\n",
       "    }\n",
       "\n",
       "    .dataframe tbody tr th {\n",
       "        vertical-align: top;\n",
       "    }\n",
       "\n",
       "    .dataframe thead th {\n",
       "        text-align: right;\n",
       "    }\n",
       "</style>\n",
       "<table border=\"1\" class=\"dataframe\">\n",
       "  <thead>\n",
       "    <tr style=\"text-align: right;\">\n",
       "      <th></th>\n",
       "      <th>topic</th>\n",
       "      <th>input</th>\n",
       "      <th>clean_input</th>\n",
       "      <th>cluster_kmean</th>\n",
       "    </tr>\n",
       "  </thead>\n",
       "  <tbody>\n",
       "    <tr>\n",
       "      <th>0</th>\n",
       "      <td>Debt collection</td>\n",
       "      <td>transworld systems inc. \\nis trying to collect...</td>\n",
       "      <td>transworld systems trying collect debt mine ow...</td>\n",
       "      <td>10</td>\n",
       "    </tr>\n",
       "    <tr>\n",
       "      <th>1</th>\n",
       "      <td>Credit reporting, credit repair services, or o...</td>\n",
       "      <td>I would like to request the suppression of the...</td>\n",
       "      <td>would like request suppression following items...</td>\n",
       "      <td>1</td>\n",
       "    </tr>\n",
       "    <tr>\n",
       "      <th>2</th>\n",
       "      <td>Debt collection</td>\n",
       "      <td>Over the past 2 weeks, I have been receiving e...</td>\n",
       "      <td>past weeks receiving excessive amounts telepho...</td>\n",
       "      <td>9</td>\n",
       "    </tr>\n",
       "    <tr>\n",
       "      <th>3</th>\n",
       "      <td>Credit reporting, credit repair services, or o...</td>\n",
       "      <td>I HAD FILED WITH CFPB ON XX/XX/XXXX19 TO HAVE ...</td>\n",
       "      <td>filed cfpb listed accounts deleted stating acc...</td>\n",
       "      <td>1</td>\n",
       "    </tr>\n",
       "    <tr>\n",
       "      <th>4</th>\n",
       "      <td>Credit reporting, credit repair services, or o...</td>\n",
       "      <td>I have several accounts that the balance is in...</td>\n",
       "      <td>several accounts balance incorrect couple limi...</td>\n",
       "      <td>1</td>\n",
       "    </tr>\n",
       "    <tr>\n",
       "      <th>...</th>\n",
       "      <td>...</td>\n",
       "      <td>...</td>\n",
       "      <td>...</td>\n",
       "      <td>...</td>\n",
       "    </tr>\n",
       "    <tr>\n",
       "      <th>492250</th>\n",
       "      <td>Consumer Loan</td>\n",
       "      <td>I was on automatic payment for my car loan. In...</td>\n",
       "      <td>automatic payment car loan fine print supposed...</td>\n",
       "      <td>3</td>\n",
       "    </tr>\n",
       "    <tr>\n",
       "      <th>492251</th>\n",
       "      <td>Debt collection</td>\n",
       "      <td>I recieved a collections call from an unknown ...</td>\n",
       "      <td>recieved collections call unknown company morn...</td>\n",
       "      <td>9</td>\n",
       "    </tr>\n",
       "    <tr>\n",
       "      <th>492252</th>\n",
       "      <td>Mortgage</td>\n",
       "      <td>On XXXX XXXX, 2015, I contacted XXXX XXXX, who...</td>\n",
       "      <td>contacted   branch manager   gateway funding...</td>\n",
       "      <td>2</td>\n",
       "    </tr>\n",
       "    <tr>\n",
       "      <th>492253</th>\n",
       "      <td>Mortgage</td>\n",
       "      <td>I can not get from chase who services my mortg...</td>\n",
       "      <td>get chase services mortgage owns original loan...</td>\n",
       "      <td>2</td>\n",
       "    </tr>\n",
       "    <tr>\n",
       "      <th>492254</th>\n",
       "      <td>Credit card or prepaid card</td>\n",
       "      <td>I made a payment to CITI XXXX Credit Card on X...</td>\n",
       "      <td>made payment citi  credit card   using citi pr...</td>\n",
       "      <td>8</td>\n",
       "    </tr>\n",
       "  </tbody>\n",
       "</table>\n",
       "<p>464245 rows × 4 columns</p>\n",
       "</div>"
      ],
      "text/plain": [
       "                                                    topic  \\\n",
       "0                                         Debt collection   \n",
       "1       Credit reporting, credit repair services, or o...   \n",
       "2                                         Debt collection   \n",
       "3       Credit reporting, credit repair services, or o...   \n",
       "4       Credit reporting, credit repair services, or o...   \n",
       "...                                                   ...   \n",
       "492250                                      Consumer Loan   \n",
       "492251                                    Debt collection   \n",
       "492252                                           Mortgage   \n",
       "492253                                           Mortgage   \n",
       "492254                        Credit card or prepaid card   \n",
       "\n",
       "                                                    input  \\\n",
       "0       transworld systems inc. \\nis trying to collect...   \n",
       "1       I would like to request the suppression of the...   \n",
       "2       Over the past 2 weeks, I have been receiving e...   \n",
       "3       I HAD FILED WITH CFPB ON XX/XX/XXXX19 TO HAVE ...   \n",
       "4       I have several accounts that the balance is in...   \n",
       "...                                                   ...   \n",
       "492250  I was on automatic payment for my car loan. In...   \n",
       "492251  I recieved a collections call from an unknown ...   \n",
       "492252  On XXXX XXXX, 2015, I contacted XXXX XXXX, who...   \n",
       "492253  I can not get from chase who services my mortg...   \n",
       "492254  I made a payment to CITI XXXX Credit Card on X...   \n",
       "\n",
       "                                              clean_input  cluster_kmean  \n",
       "0       transworld systems trying collect debt mine ow...             10  \n",
       "1       would like request suppression following items...              1  \n",
       "2       past weeks receiving excessive amounts telepho...              9  \n",
       "3       filed cfpb listed accounts deleted stating acc...              1  \n",
       "4       several accounts balance incorrect couple limi...              1  \n",
       "...                                                   ...            ...  \n",
       "492250  automatic payment car loan fine print supposed...              3  \n",
       "492251  recieved collections call unknown company morn...              9  \n",
       "492252    contacted   branch manager   gateway funding...              2  \n",
       "492253  get chase services mortgage owns original loan...              2  \n",
       "492254  made payment citi  credit card   using citi pr...              8  \n",
       "\n",
       "[464245 rows x 4 columns]"
      ]
     },
     "execution_count": 19,
     "metadata": {},
     "output_type": "execute_result"
    }
   ],
   "source": [
    "# predict cluster\n",
    "df['cluster_kmean'] = km.predict(X)\n",
    "df"
   ]
  },
  {
   "cell_type": "code",
   "execution_count": 20,
   "metadata": {},
   "outputs": [
    {
     "data": {
      "text/plain": [
       "cluster_kmean\n",
       "0     Credit reporting, credit repair services, or o...\n",
       "1     Credit reporting, credit repair services, or o...\n",
       "2                                              Mortgage\n",
       "3     Credit reporting, credit repair services, or o...\n",
       "4                                              Mortgage\n",
       "5     Credit reporting, credit repair services, or o...\n",
       "6                           Checking or savings account\n",
       "7     Credit reporting, credit repair services, or o...\n",
       "8                           Credit card or prepaid card\n",
       "9                                       Debt collection\n",
       "10                                      Debt collection\n",
       "dtype: object"
      ]
     },
     "execution_count": 20,
     "metadata": {},
     "output_type": "execute_result"
    }
   ],
   "source": [
    "# most common topic in each cluster but not duplicate\n",
    "pd.crosstab(df.cluster_kmean, df.topic).idxmax(axis=1)"
   ]
  },
  {
   "cell_type": "markdown",
   "metadata": {},
   "source": [
    "### LDA"
   ]
  },
  {
   "cell_type": "code",
   "execution_count": 21,
   "metadata": {},
   "outputs": [],
   "source": [
    "# LDAModel\n",
    "from gensim.models import LdaModel\n",
    "from gensim.corpora import Dictionary\n",
    "from sklearn.feature_extraction.text import TfidfVectorizer\n",
    "vectorizer = TfidfVectorizer(max_df=0.05, min_df=2, stop_words='english')\n",
    "\n",
    "# Create a corpus from a list of texts\n",
    "common_dictionary = Dictionary([text.split() for text in df['clean_input']])\n",
    "common_corpus = [common_dictionary.doc2bow(text.split()) for text in df['clean_input']]\n",
    "# Train the model on the corpus.\n",
    "lda = LdaModel(common_corpus, num_topics=11, id2word=common_dictionary)\n"
   ]
  },
  {
   "cell_type": "code",
   "execution_count": 22,
   "metadata": {},
   "outputs": [],
   "source": [
    "# predict cluster most likely 3 topics only\n",
    "df['cluster_lda'] = [lda.get_document_topics(common_dictionary.doc2bow(text.split())) for text in df['clean_input']]\n",
    "df['cluster_lda'] = df['cluster_lda'].apply(lambda x: sorted(x, key=lambda y: y[1], reverse=True)[:3])\n",
    "df['cluster_lda'] = df['cluster_lda'].apply(lambda x: [y[0] for y in x])"
   ]
  },
  {
   "cell_type": "code",
   "execution_count": 23,
   "metadata": {},
   "outputs": [
    {
     "name": "stdout",
     "output_type": "stream",
     "text": [
      "Cluster 0: identity theft information consumer fraud fraudulent report police name victim\n",
      "Cluster 1: credit report information equifax accounts removed score experian remove card\n",
      "Cluster 2: told called would call said back phone get could asked\n",
      "Cluster 3: debt collection company received letter sent account agency amount never\n",
      "Cluster 4: account credit late payment report reporting balance reported paid payments\n",
      "Cluster 5: account bank card check money payment chase would received funds\n",
      "Cluster 6: loan payment mortgage payments interest loans would home amount pay\n",
      "Cluster 7: information reporting credit account request act provide letter fcra law\n",
      "Cluster 8: insurance car vehicle company paid loan finance union lease financial\n",
      "Cluster 9: inquiry unauthorized inquiries hard date usaa authorized authorize auto authorization\n",
      "Cluster 10: wells fargo one offer capital us american bank bonus complaint\n"
     ]
    }
   ],
   "source": [
    "# print each cluster topic no prob\n",
    "for i in range(11):\n",
    "    print(\"Cluster %d:\" % i, end='')\n",
    "    for ind in lda.show_topic(i, 10):\n",
    "        print(' %s' % ind[0], end='')\n",
    "    print()"
   ]
  },
  {
   "cell_type": "code",
   "execution_count": 24,
   "metadata": {},
   "outputs": [
    {
     "data": {
      "text/html": [
       "<div>\n",
       "<style scoped>\n",
       "    .dataframe tbody tr th:only-of-type {\n",
       "        vertical-align: middle;\n",
       "    }\n",
       "\n",
       "    .dataframe tbody tr th {\n",
       "        vertical-align: top;\n",
       "    }\n",
       "\n",
       "    .dataframe thead th {\n",
       "        text-align: right;\n",
       "    }\n",
       "</style>\n",
       "<table border=\"1\" class=\"dataframe\">\n",
       "  <thead>\n",
       "    <tr style=\"text-align: right;\">\n",
       "      <th></th>\n",
       "      <th>topic</th>\n",
       "      <th>input</th>\n",
       "      <th>clean_input</th>\n",
       "      <th>cluster_kmean</th>\n",
       "      <th>cluster_lda</th>\n",
       "    </tr>\n",
       "  </thead>\n",
       "  <tbody>\n",
       "    <tr>\n",
       "      <th>0</th>\n",
       "      <td>Debt collection</td>\n",
       "      <td>transworld systems inc. \\nis trying to collect...</td>\n",
       "      <td>transworld systems trying collect debt mine ow...</td>\n",
       "      <td>10</td>\n",
       "      <td>[3, 4, 1]</td>\n",
       "    </tr>\n",
       "    <tr>\n",
       "      <th>1</th>\n",
       "      <td>Credit reporting, credit repair services, or o...</td>\n",
       "      <td>I would like to request the suppression of the...</td>\n",
       "      <td>would like request suppression following items...</td>\n",
       "      <td>1</td>\n",
       "      <td>[0, 1, 7]</td>\n",
       "    </tr>\n",
       "    <tr>\n",
       "      <th>2</th>\n",
       "      <td>Debt collection</td>\n",
       "      <td>Over the past 2 weeks, I have been receiving e...</td>\n",
       "      <td>past weeks receiving excessive amounts telepho...</td>\n",
       "      <td>9</td>\n",
       "      <td>[2, 3]</td>\n",
       "    </tr>\n",
       "    <tr>\n",
       "      <th>3</th>\n",
       "      <td>Credit reporting, credit repair services, or o...</td>\n",
       "      <td>I HAD FILED WITH CFPB ON XX/XX/XXXX19 TO HAVE ...</td>\n",
       "      <td>filed cfpb listed accounts deleted stating acc...</td>\n",
       "      <td>1</td>\n",
       "      <td>[0, 1, 7]</td>\n",
       "    </tr>\n",
       "    <tr>\n",
       "      <th>4</th>\n",
       "      <td>Credit reporting, credit repair services, or o...</td>\n",
       "      <td>I have several accounts that the balance is in...</td>\n",
       "      <td>several accounts balance incorrect couple limi...</td>\n",
       "      <td>1</td>\n",
       "      <td>[4, 1, 2]</td>\n",
       "    </tr>\n",
       "    <tr>\n",
       "      <th>...</th>\n",
       "      <td>...</td>\n",
       "      <td>...</td>\n",
       "      <td>...</td>\n",
       "      <td>...</td>\n",
       "      <td>...</td>\n",
       "    </tr>\n",
       "    <tr>\n",
       "      <th>492250</th>\n",
       "      <td>Consumer Loan</td>\n",
       "      <td>I was on automatic payment for my car loan. In...</td>\n",
       "      <td>automatic payment car loan fine print supposed...</td>\n",
       "      <td>3</td>\n",
       "      <td>[4, 6, 8]</td>\n",
       "    </tr>\n",
       "    <tr>\n",
       "      <th>492251</th>\n",
       "      <td>Debt collection</td>\n",
       "      <td>I recieved a collections call from an unknown ...</td>\n",
       "      <td>recieved collections call unknown company morn...</td>\n",
       "      <td>9</td>\n",
       "      <td>[2, 3, 4]</td>\n",
       "    </tr>\n",
       "    <tr>\n",
       "      <th>492252</th>\n",
       "      <td>Mortgage</td>\n",
       "      <td>On XXXX XXXX, 2015, I contacted XXXX XXXX, who...</td>\n",
       "      <td>contacted   branch manager   gateway funding...</td>\n",
       "      <td>2</td>\n",
       "      <td>[5, 6, 10]</td>\n",
       "    </tr>\n",
       "    <tr>\n",
       "      <th>492253</th>\n",
       "      <td>Mortgage</td>\n",
       "      <td>I can not get from chase who services my mortg...</td>\n",
       "      <td>get chase services mortgage owns original loan...</td>\n",
       "      <td>2</td>\n",
       "      <td>[6, 3, 5]</td>\n",
       "    </tr>\n",
       "    <tr>\n",
       "      <th>492254</th>\n",
       "      <td>Credit card or prepaid card</td>\n",
       "      <td>I made a payment to CITI XXXX Credit Card on X...</td>\n",
       "      <td>made payment citi  credit card   using citi pr...</td>\n",
       "      <td>8</td>\n",
       "      <td>[5, 2, 3]</td>\n",
       "    </tr>\n",
       "  </tbody>\n",
       "</table>\n",
       "<p>464245 rows × 5 columns</p>\n",
       "</div>"
      ],
      "text/plain": [
       "                                                    topic  \\\n",
       "0                                         Debt collection   \n",
       "1       Credit reporting, credit repair services, or o...   \n",
       "2                                         Debt collection   \n",
       "3       Credit reporting, credit repair services, or o...   \n",
       "4       Credit reporting, credit repair services, or o...   \n",
       "...                                                   ...   \n",
       "492250                                      Consumer Loan   \n",
       "492251                                    Debt collection   \n",
       "492252                                           Mortgage   \n",
       "492253                                           Mortgage   \n",
       "492254                        Credit card or prepaid card   \n",
       "\n",
       "                                                    input  \\\n",
       "0       transworld systems inc. \\nis trying to collect...   \n",
       "1       I would like to request the suppression of the...   \n",
       "2       Over the past 2 weeks, I have been receiving e...   \n",
       "3       I HAD FILED WITH CFPB ON XX/XX/XXXX19 TO HAVE ...   \n",
       "4       I have several accounts that the balance is in...   \n",
       "...                                                   ...   \n",
       "492250  I was on automatic payment for my car loan. In...   \n",
       "492251  I recieved a collections call from an unknown ...   \n",
       "492252  On XXXX XXXX, 2015, I contacted XXXX XXXX, who...   \n",
       "492253  I can not get from chase who services my mortg...   \n",
       "492254  I made a payment to CITI XXXX Credit Card on X...   \n",
       "\n",
       "                                              clean_input  cluster_kmean  \\\n",
       "0       transworld systems trying collect debt mine ow...             10   \n",
       "1       would like request suppression following items...              1   \n",
       "2       past weeks receiving excessive amounts telepho...              9   \n",
       "3       filed cfpb listed accounts deleted stating acc...              1   \n",
       "4       several accounts balance incorrect couple limi...              1   \n",
       "...                                                   ...            ...   \n",
       "492250  automatic payment car loan fine print supposed...              3   \n",
       "492251  recieved collections call unknown company morn...              9   \n",
       "492252    contacted   branch manager   gateway funding...              2   \n",
       "492253  get chase services mortgage owns original loan...              2   \n",
       "492254  made payment citi  credit card   using citi pr...              8   \n",
       "\n",
       "       cluster_lda  \n",
       "0        [3, 4, 1]  \n",
       "1        [0, 1, 7]  \n",
       "2           [2, 3]  \n",
       "3        [0, 1, 7]  \n",
       "4        [4, 1, 2]  \n",
       "...            ...  \n",
       "492250   [4, 6, 8]  \n",
       "492251   [2, 3, 4]  \n",
       "492252  [5, 6, 10]  \n",
       "492253   [6, 3, 5]  \n",
       "492254   [5, 2, 3]  \n",
       "\n",
       "[464245 rows x 5 columns]"
      ]
     },
     "execution_count": 24,
     "metadata": {},
     "output_type": "execute_result"
    }
   ],
   "source": [
    "df"
   ]
  }
 ],
 "metadata": {
  "kernelspec": {
   "display_name": "Python 3",
   "language": "python",
   "name": "python3"
  },
  "language_info": {
   "codemirror_mode": {
    "name": "ipython",
    "version": 3
   },
   "file_extension": ".py",
   "mimetype": "text/x-python",
   "name": "python",
   "nbconvert_exporter": "python",
   "pygments_lexer": "ipython3",
   "version": "3.11.2 (tags/v3.11.2:878ead1, Feb  7 2023, 16:38:35) [MSC v.1934 64 bit (AMD64)]"
  },
  "orig_nbformat": 4,
  "vscode": {
   "interpreter": {
    "hash": "d417a21d97a2e6b8832d21dc44f5cbe4be6e18325f874a8bb8484565b928cd54"
   }
  }
 },
 "nbformat": 4,
 "nbformat_minor": 2
}
