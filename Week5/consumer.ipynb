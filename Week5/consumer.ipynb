{
 "cells": [
  {
   "cell_type": "markdown",
   "metadata": {},
   "source": [
    "### Import data"
   ]
  },
  {
   "cell_type": "code",
   "execution_count": 1,
   "metadata": {},
   "outputs": [],
   "source": [
    "import pandas as pd\n",
    "import warnings\n",
    "warnings.filterwarnings('ignore')"
   ]
  },
  {
   "cell_type": "code",
   "execution_count": 2,
   "metadata": {},
   "outputs": [],
   "source": [
    "import gzip\n",
    "import pickle\n",
    "with gzip.open('consumer_complaint_dataset.data', 'rb') as f:\n",
    "    data = pickle.load(f)"
   ]
  },
  {
   "cell_type": "code",
   "execution_count": 3,
   "metadata": {},
   "outputs": [
    {
     "data": {
      "text/html": [
       "<div>\n",
       "<style scoped>\n",
       "    .dataframe tbody tr th:only-of-type {\n",
       "        vertical-align: middle;\n",
       "    }\n",
       "\n",
       "    .dataframe tbody tr th {\n",
       "        vertical-align: top;\n",
       "    }\n",
       "\n",
       "    .dataframe thead th {\n",
       "        text-align: right;\n",
       "    }\n",
       "</style>\n",
       "<table border=\"1\" class=\"dataframe\">\n",
       "  <thead>\n",
       "    <tr style=\"text-align: right;\">\n",
       "      <th></th>\n",
       "      <th>topic</th>\n",
       "      <th>input</th>\n",
       "    </tr>\n",
       "  </thead>\n",
       "  <tbody>\n",
       "    <tr>\n",
       "      <th>0</th>\n",
       "      <td>Debt collection</td>\n",
       "      <td>transworld systems inc. \\nis trying to collect...</td>\n",
       "    </tr>\n",
       "    <tr>\n",
       "      <th>1</th>\n",
       "      <td>Credit reporting, credit repair services, or o...</td>\n",
       "      <td>I would like to request the suppression of the...</td>\n",
       "    </tr>\n",
       "    <tr>\n",
       "      <th>2</th>\n",
       "      <td>Debt collection</td>\n",
       "      <td>Over the past 2 weeks, I have been receiving e...</td>\n",
       "    </tr>\n",
       "    <tr>\n",
       "      <th>3</th>\n",
       "      <td>Credit reporting, credit repair services, or o...</td>\n",
       "      <td>I HAD FILED WITH CFPB ON XX/XX/XXXX19 TO HAVE ...</td>\n",
       "    </tr>\n",
       "    <tr>\n",
       "      <th>4</th>\n",
       "      <td>Credit reporting, credit repair services, or o...</td>\n",
       "      <td>I have several accounts that the balance is in...</td>\n",
       "    </tr>\n",
       "    <tr>\n",
       "      <th>...</th>\n",
       "      <td>...</td>\n",
       "      <td>...</td>\n",
       "    </tr>\n",
       "    <tr>\n",
       "      <th>492250</th>\n",
       "      <td>Consumer Loan</td>\n",
       "      <td>I was on automatic payment for my car loan. In...</td>\n",
       "    </tr>\n",
       "    <tr>\n",
       "      <th>492251</th>\n",
       "      <td>Debt collection</td>\n",
       "      <td>I recieved a collections call from an unknown ...</td>\n",
       "    </tr>\n",
       "    <tr>\n",
       "      <th>492252</th>\n",
       "      <td>Mortgage</td>\n",
       "      <td>On XXXX XXXX, 2015, I contacted XXXX XXXX, who...</td>\n",
       "    </tr>\n",
       "    <tr>\n",
       "      <th>492253</th>\n",
       "      <td>Mortgage</td>\n",
       "      <td>I can not get from chase who services my mortg...</td>\n",
       "    </tr>\n",
       "    <tr>\n",
       "      <th>492254</th>\n",
       "      <td>Credit card</td>\n",
       "      <td>I made a payment to CITI XXXX Credit Card on X...</td>\n",
       "    </tr>\n",
       "  </tbody>\n",
       "</table>\n",
       "<p>492255 rows × 2 columns</p>\n",
       "</div>"
      ],
      "text/plain": [
       "                                                    topic  \\\n",
       "0                                         Debt collection   \n",
       "1       Credit reporting, credit repair services, or o...   \n",
       "2                                         Debt collection   \n",
       "3       Credit reporting, credit repair services, or o...   \n",
       "4       Credit reporting, credit repair services, or o...   \n",
       "...                                                   ...   \n",
       "492250                                      Consumer Loan   \n",
       "492251                                    Debt collection   \n",
       "492252                                           Mortgage   \n",
       "492253                                           Mortgage   \n",
       "492254                                        Credit card   \n",
       "\n",
       "                                                    input  \n",
       "0       transworld systems inc. \\nis trying to collect...  \n",
       "1       I would like to request the suppression of the...  \n",
       "2       Over the past 2 weeks, I have been receiving e...  \n",
       "3       I HAD FILED WITH CFPB ON XX/XX/XXXX19 TO HAVE ...  \n",
       "4       I have several accounts that the balance is in...  \n",
       "...                                                   ...  \n",
       "492250  I was on automatic payment for my car loan. In...  \n",
       "492251  I recieved a collections call from an unknown ...  \n",
       "492252  On XXXX XXXX, 2015, I contacted XXXX XXXX, who...  \n",
       "492253  I can not get from chase who services my mortg...  \n",
       "492254  I made a payment to CITI XXXX Credit Card on X...  \n",
       "\n",
       "[492255 rows x 2 columns]"
      ]
     },
     "execution_count": 3,
     "metadata": {},
     "output_type": "execute_result"
    }
   ],
   "source": [
    "data"
   ]
  },
  {
   "cell_type": "code",
   "execution_count": 4,
   "metadata": {},
   "outputs": [
    {
     "data": {
      "text/html": [
       "<div>\n",
       "<style scoped>\n",
       "    .dataframe tbody tr th:only-of-type {\n",
       "        vertical-align: middle;\n",
       "    }\n",
       "\n",
       "    .dataframe tbody tr th {\n",
       "        vertical-align: top;\n",
       "    }\n",
       "\n",
       "    .dataframe thead th {\n",
       "        text-align: right;\n",
       "    }\n",
       "</style>\n",
       "<table border=\"1\" class=\"dataframe\">\n",
       "  <thead>\n",
       "    <tr style=\"text-align: right;\">\n",
       "      <th></th>\n",
       "      <th>topic</th>\n",
       "      <th>input</th>\n",
       "    </tr>\n",
       "  </thead>\n",
       "  <tbody>\n",
       "    <tr>\n",
       "      <th>0</th>\n",
       "      <td>Debt collection</td>\n",
       "      <td>transworld systems inc. \\nis trying to collect...</td>\n",
       "    </tr>\n",
       "    <tr>\n",
       "      <th>1</th>\n",
       "      <td>Credit reporting, credit repair services, or o...</td>\n",
       "      <td>I would like to request the suppression of the...</td>\n",
       "    </tr>\n",
       "    <tr>\n",
       "      <th>2</th>\n",
       "      <td>Debt collection</td>\n",
       "      <td>Over the past 2 weeks, I have been receiving e...</td>\n",
       "    </tr>\n",
       "    <tr>\n",
       "      <th>3</th>\n",
       "      <td>Credit reporting, credit repair services, or o...</td>\n",
       "      <td>I HAD FILED WITH CFPB ON XX/XX/XXXX19 TO HAVE ...</td>\n",
       "    </tr>\n",
       "    <tr>\n",
       "      <th>4</th>\n",
       "      <td>Credit reporting, credit repair services, or o...</td>\n",
       "      <td>I have several accounts that the balance is in...</td>\n",
       "    </tr>\n",
       "    <tr>\n",
       "      <th>...</th>\n",
       "      <td>...</td>\n",
       "      <td>...</td>\n",
       "    </tr>\n",
       "    <tr>\n",
       "      <th>492250</th>\n",
       "      <td>Consumer Loan</td>\n",
       "      <td>I was on automatic payment for my car loan. In...</td>\n",
       "    </tr>\n",
       "    <tr>\n",
       "      <th>492251</th>\n",
       "      <td>Debt collection</td>\n",
       "      <td>I recieved a collections call from an unknown ...</td>\n",
       "    </tr>\n",
       "    <tr>\n",
       "      <th>492252</th>\n",
       "      <td>Mortgage</td>\n",
       "      <td>On XXXX XXXX, 2015, I contacted XXXX XXXX, who...</td>\n",
       "    </tr>\n",
       "    <tr>\n",
       "      <th>492253</th>\n",
       "      <td>Mortgage</td>\n",
       "      <td>I can not get from chase who services my mortg...</td>\n",
       "    </tr>\n",
       "    <tr>\n",
       "      <th>492254</th>\n",
       "      <td>Credit card</td>\n",
       "      <td>I made a payment to CITI XXXX Credit Card on X...</td>\n",
       "    </tr>\n",
       "  </tbody>\n",
       "</table>\n",
       "<p>464561 rows × 2 columns</p>\n",
       "</div>"
      ],
      "text/plain": [
       "                                                    topic  \\\n",
       "0                                         Debt collection   \n",
       "1       Credit reporting, credit repair services, or o...   \n",
       "2                                         Debt collection   \n",
       "3       Credit reporting, credit repair services, or o...   \n",
       "4       Credit reporting, credit repair services, or o...   \n",
       "...                                                   ...   \n",
       "492250                                      Consumer Loan   \n",
       "492251                                    Debt collection   \n",
       "492252                                           Mortgage   \n",
       "492253                                           Mortgage   \n",
       "492254                                        Credit card   \n",
       "\n",
       "                                                    input  \n",
       "0       transworld systems inc. \\nis trying to collect...  \n",
       "1       I would like to request the suppression of the...  \n",
       "2       Over the past 2 weeks, I have been receiving e...  \n",
       "3       I HAD FILED WITH CFPB ON XX/XX/XXXX19 TO HAVE ...  \n",
       "4       I have several accounts that the balance is in...  \n",
       "...                                                   ...  \n",
       "492250  I was on automatic payment for my car loan. In...  \n",
       "492251  I recieved a collections call from an unknown ...  \n",
       "492252  On XXXX XXXX, 2015, I contacted XXXX XXXX, who...  \n",
       "492253  I can not get from chase who services my mortg...  \n",
       "492254  I made a payment to CITI XXXX Credit Card on X...  \n",
       "\n",
       "[464561 rows x 2 columns]"
      ]
     },
     "execution_count": 4,
     "metadata": {},
     "output_type": "execute_result"
    }
   ],
   "source": [
    "# drop duplicates\n",
    "data = data.drop_duplicates()\n",
    "data"
   ]
  },
  {
   "cell_type": "markdown",
   "metadata": {},
   "source": [
    "### Normalize data"
   ]
  },
  {
   "cell_type": "code",
   "execution_count": 5,
   "metadata": {},
   "outputs": [
    {
     "data": {
      "text/plain": [
       "'transworld systems inc. \\nis trying to collect a debt that is not mine, not owed and is inaccurate.'"
      ]
     },
     "execution_count": 5,
     "metadata": {},
     "output_type": "execute_result"
    }
   ],
   "source": [
    "# loc one lone\n",
    "data.loc[0, 'input']"
   ]
  },
  {
   "cell_type": "code",
   "execution_count": 6,
   "metadata": {},
   "outputs": [],
   "source": [
    "import re\n",
    "RE_BAD_SYMBOLS = re.compile(r'[&#<>{}\\[\\]\\\\]')\n",
    "def impurity(text, min_len=10):\n",
    "    # Returns the share of bad characters in a text\n",
    "    if text == None or len(text) < min_len:\n",
    "        return 0\n",
    "    return len(RE_BAD_SYMBOLS.findall(text)) / len(text)\n",
    "\n",
    "data['impurity'] = data['input'].apply(impurity)"
   ]
  },
  {
   "cell_type": "code",
   "execution_count": 7,
   "metadata": {},
   "outputs": [
    {
     "data": {
      "text/html": [
       "<div>\n",
       "<style scoped>\n",
       "    .dataframe tbody tr th:only-of-type {\n",
       "        vertical-align: middle;\n",
       "    }\n",
       "\n",
       "    .dataframe tbody tr th {\n",
       "        vertical-align: top;\n",
       "    }\n",
       "\n",
       "    .dataframe thead th {\n",
       "        text-align: right;\n",
       "    }\n",
       "</style>\n",
       "<table border=\"1\" class=\"dataframe\">\n",
       "  <thead>\n",
       "    <tr style=\"text-align: right;\">\n",
       "      <th></th>\n",
       "      <th>topic</th>\n",
       "      <th>input</th>\n",
       "      <th>impurity</th>\n",
       "    </tr>\n",
       "  </thead>\n",
       "  <tbody>\n",
       "    <tr>\n",
       "      <th>287977</th>\n",
       "      <td>Student loan</td>\n",
       "      <td>Being charged two late fees per month in XX/XX...</td>\n",
       "      <td>0.119497</td>\n",
       "    </tr>\n",
       "    <tr>\n",
       "      <th>121450</th>\n",
       "      <td>Debt collection</td>\n",
       "      <td>Fedloan servicing {$1700.00}, {$4000.00}, {$26...</td>\n",
       "      <td>0.115385</td>\n",
       "    </tr>\n",
       "    <tr>\n",
       "      <th>238476</th>\n",
       "      <td>Payday loan, title loan, or personal loan</td>\n",
       "      <td>I was not expecting to pay for this long I was...</td>\n",
       "      <td>0.103257</td>\n",
       "    </tr>\n",
       "    <tr>\n",
       "      <th>50348</th>\n",
       "      <td>Payday loan, title loan, or personal loan</td>\n",
       "      <td>Trying to settle with this company they told m...</td>\n",
       "      <td>0.096470</td>\n",
       "    </tr>\n",
       "    <tr>\n",
       "      <th>106936</th>\n",
       "      <td>Checking or savings account</td>\n",
       "      <td>XX/XX/18 XXXX {$39.00} XXXX XXXX {$34.00} XXXX...</td>\n",
       "      <td>0.096386</td>\n",
       "    </tr>\n",
       "    <tr>\n",
       "      <th>444044</th>\n",
       "      <td>Credit reporting, credit repair services, or o...</td>\n",
       "      <td>XXXX XXXX XXXX {$330.00} XX/XX/XXXX {$76.00} {...</td>\n",
       "      <td>0.095238</td>\n",
       "    </tr>\n",
       "    <tr>\n",
       "      <th>157055</th>\n",
       "      <td>Payday loan, title loan, or personal loan</td>\n",
       "      <td>I took out a loan with Big Picture Loans for {...</td>\n",
       "      <td>0.094796</td>\n",
       "    </tr>\n",
       "    <tr>\n",
       "      <th>416102</th>\n",
       "      <td>Student loan</td>\n",
       "      <td>I checked my credit report recently and notice...</td>\n",
       "      <td>0.093856</td>\n",
       "    </tr>\n",
       "    <tr>\n",
       "      <th>15413</th>\n",
       "      <td>Credit reporting, credit repair services, or o...</td>\n",
       "      <td>These items below do not belong to me at all. ...</td>\n",
       "      <td>0.093333</td>\n",
       "    </tr>\n",
       "    <tr>\n",
       "      <th>19244</th>\n",
       "      <td>Credit reporting, credit repair services, or o...</td>\n",
       "      <td>These accounts are fraudulent XXXX {$550.00} X...</td>\n",
       "      <td>0.090141</td>\n",
       "    </tr>\n",
       "  </tbody>\n",
       "</table>\n",
       "</div>"
      ],
      "text/plain": [
       "                                                    topic  \\\n",
       "287977                                       Student loan   \n",
       "121450                                    Debt collection   \n",
       "238476          Payday loan, title loan, or personal loan   \n",
       "50348           Payday loan, title loan, or personal loan   \n",
       "106936                        Checking or savings account   \n",
       "444044  Credit reporting, credit repair services, or o...   \n",
       "157055          Payday loan, title loan, or personal loan   \n",
       "416102                                       Student loan   \n",
       "15413   Credit reporting, credit repair services, or o...   \n",
       "19244   Credit reporting, credit repair services, or o...   \n",
       "\n",
       "                                                    input  impurity  \n",
       "287977  Being charged two late fees per month in XX/XX...  0.119497  \n",
       "121450  Fedloan servicing {$1700.00}, {$4000.00}, {$26...  0.115385  \n",
       "238476  I was not expecting to pay for this long I was...  0.103257  \n",
       "50348   Trying to settle with this company they told m...  0.096470  \n",
       "106936  XX/XX/18 XXXX {$39.00} XXXX XXXX {$34.00} XXXX...  0.096386  \n",
       "444044  XXXX XXXX XXXX {$330.00} XX/XX/XXXX {$76.00} {...  0.095238  \n",
       "157055  I took out a loan with Big Picture Loans for {...  0.094796  \n",
       "416102  I checked my credit report recently and notice...  0.093856  \n",
       "15413   These items below do not belong to me at all. ...  0.093333  \n",
       "19244   These accounts are fraudulent XXXX {$550.00} X...  0.090141  "
      ]
     },
     "execution_count": 7,
     "metadata": {},
     "output_type": "execute_result"
    }
   ],
   "source": [
    "# sort by impurity\n",
    "data.sort_values(by='impurity', ascending=False).head(10)"
   ]
  },
  {
   "cell_type": "code",
   "execution_count": 8,
   "metadata": {},
   "outputs": [
    {
     "name": "stdout",
     "output_type": "stream",
     "text": [
      "impurity :  0.11949685534591195\n",
      "Being charged two late fees per month in XX/XX/XXXX, XX/XX/XXXX & XX/XX/XXXX. Accounts were charged off on credit report in XX/XX/XXXX but they are being reported monthly on report as on today.\n",
      "Charged late fees when payments were made XX/XX/XXXX, XX/XX/XXXX & XX/XX/XXXX. Charged \" repayment '' fee in XX/XX/XXXX and XX/XX/XXXX.\n",
      "Charged for forbearance in XX/XX/XXXX. XX/XX/XXXX Late Fee {$0.00} {$0.00} {$7.00} {$7.00} XX/XX/XXXX Late Fee {$0.00} {$0.00} {$7.00} {$7.00} XX/XX/XXXX Late Fee {$0.00} {$0.00} {$7.00} {$7.00} XX/XX/XXXX Late Fee {$0.00} {$0.00} {$7.00} {$7.00} XX/XX/XXXX Late Fee {$0.00} {$0.00} {$7.00} {$7.00} XX/XX/XXXXLate Fee {$0.00} {$0.00} {$7.00} {$7.00} XX/XX/XXXX Late Fee {$0.00} {$0.00} {$7.00} {$7.00} XX/XX/XXXXLate Fee {$0.00} {$0.00} {$7.00} {$7.00} XX/XX/XXXX Late Fee {$0.00} {$0.00} {$10.00} {$10.00} XX/XX/XXXX Late Fee {$0.00} {$0.00} {$10.00} {$10.00} XX/XX/XXXXLate Fee {$0.00} {$0.00} - {$2.00} - {$2.00} XX/XX/XXXXLate Fee {$0.00} {$0.00} {$10.00} {$10.00} XX/XX/XXXX Payment {$0.00} - {$71.00} - {$30.00} - {$100.00} XX/XX/XXXXLate Fee {$0.00} {$0.00} {$10.00} {$10.00} XX/XX/XXXX Late Fee {$0.00} {$0.00} {$10.00} {$10.00}XX/XX/XXXX Payment {$0.00} - {$100.00} {$0.00} - {$100.00} XX/XX/XXXX Late Fee {$0.00} {$0.00} {$10.00} {$10.00} XX/XX/XXXX Payment - {$82.00} - {$100.00} {$0.00} - {$190.00} XX/XX/XXXX Payment {$0.00} - {$45.00} {$0.00} - {$45.00} XX/XX/XXXX Payment - {$170.00} - {$9.00} - {$9.00} - {$190.00} XX/XX/XXXX Payment {$0.00} - {$36.00} - {$18.00} - {$55.00} XX/XX/XXXX Late Fee {$0.00} {$0.00} {$24.00} {$24.00} XX/XX/XXXX Payment - {$140.00} - {$88.00} - {$42.00} - {$270.00} XX/XX/XXXX Late Fee {$0.00} {$0.00} {$22.00} {$22.00} XX/XX/XXXXPayment {$0.00} - {$120.00} - {$23.00} - {$150.00} XX/XX/XXXXLate Fee {$0.00} {$0.00} {$24.00} {$24.00} XX/XX/XXXX Payment {$0.00} - {$80.00} - {$19.00} - {$100.00} XX/XX/XXXX Late Fee {$0.00} {$0.00} {$20.00} {$20.00} XX/XX/XXXX Payment {$0.00} - {$96.00} - {$3.00} - {$100.00} XX/XX/XXXX Payment {$0.00} - {$40.00} - {$9.00} - {$50.00} XX/XX/XXXX Repayment Fee {$390.00} {$0.00} {$0.00} {$390.00} XX/XX/XXXX Forbearance Fee {$0.00} {$0.00} {$150.00} {$150.00} XX/XX/XXXX Repayment Fee {$310.00} {$0.00} {$0.00} {$310.00}\n"
     ]
    }
   ],
   "source": [
    "print('impurity : ', impurity(data.loc[287977, 'input']))\n",
    "print(data.loc[287977, 'input'])"
   ]
  },
  {
   "cell_type": "code",
   "execution_count": 9,
   "metadata": {},
   "outputs": [],
   "source": [
    "import html\n",
    "def clean(text):\n",
    "    # convert htnl escapes like &amp; to characters.\n",
    "    text = html.unescape(text)\n",
    "    # tags lomke <table> and <a href> are not needed\n",
    "    text = re.sub(r'<[^>]*>', '', text)\n",
    "    # markdown URLs like [Some text](http://...) are keep the text\n",
    "    text = re.sub(r'\\[([^\\[\\]]*)\\]\\([^\\(\\)]*\\)', r'\\1', text)\n",
    "    # text or code in backticks like [0]\n",
    "    text = re.sub(r'\\[[^\\[\\]]*\\]', ' ', text)\n",
    "    # standaLone sequence of speacials, matches &# but not #cool\n",
    "    text = re.sub(r'(?:^|\\s)[&#<>{}\\[\\]+|\\\\:-]{1,}(z/:\\s|$)', ' ', text)\n",
    "    # standLone sequences of hyphens like --- or ==\n",
    "    text = re.sub(r'(?:^|\\s)[\\-=\\+]{2,}(?:\\s|$)', ' ', text)\n",
    "    # sequences of white space\n",
    "    text = re.sub(r'\\s+', ' ', text)\n",
    "    #  XX/XX/XXXX to _DATE_\n",
    "    text = re.sub(r'\\w{1,2}/\\w{1,2}/\\w{2,4}', ' _DATE_ ', text)\n",
    "    #  XX/XX/XX to _CREDIT_CARD_\n",
    "    text = re.sub(r'([XXXX] [XXXX] [XXXX])|([XXXX] [XXXX])', ' _CREDIT_CARD_ ', text)\n",
    "    #  {$###.##} to _MONEY_\n",
    "    text = re.sub(r'{\\$\\d{1,7}[(,\\d{1,4})|(\\.\\d{2})]|[(\\d{1,7}]|[(x)*]}', ' _MONEY_ ', text)\n",
    "    # XXXX to _4LC_ is the latest 4 letters of the credit card\n",
    "    text = re.sub(r'XXXX', ' _4LC_ ', text)\n",
    "    # & to and\n",
    "    text = re.sub(r'&', 'and', text)\n",
    "    # space when ..\\.. to .. / ..\n",
    "    text = re.sub(r' .\\w*\\\\\\\\w* ', '\\1 / \\2', text)\n",
    "    return text.strip()"
   ]
  },
  {
   "cell_type": "code",
   "execution_count": 10,
   "metadata": {},
   "outputs": [
    {
     "data": {
      "text/html": [
       "<div>\n",
       "<style scoped>\n",
       "    .dataframe tbody tr th:only-of-type {\n",
       "        vertical-align: middle;\n",
       "    }\n",
       "\n",
       "    .dataframe tbody tr th {\n",
       "        vertical-align: top;\n",
       "    }\n",
       "\n",
       "    .dataframe thead th {\n",
       "        text-align: right;\n",
       "    }\n",
       "</style>\n",
       "<table border=\"1\" class=\"dataframe\">\n",
       "  <thead>\n",
       "    <tr style=\"text-align: right;\">\n",
       "      <th></th>\n",
       "      <th>topic</th>\n",
       "      <th>input</th>\n",
       "      <th>impurity</th>\n",
       "      <th>clean_input</th>\n",
       "      <th>clean_impurity</th>\n",
       "    </tr>\n",
       "  </thead>\n",
       "  <tbody>\n",
       "    <tr>\n",
       "      <th>192175</th>\n",
       "      <td>Credit reporting, credit repair services, or o...</td>\n",
       "      <td>I've called all 3 credit bureaus about these h...</td>\n",
       "      <td>0.070352</td>\n",
       "      <td>I've called all  _MONEY_  credit bureaus about...</td>\n",
       "      <td>0.059155</td>\n",
       "    </tr>\n",
       "    <tr>\n",
       "      <th>469480</th>\n",
       "      <td>Credit reporting, credit repair services, or o...</td>\n",
       "      <td>I've called all 3 credit bureaus about these h...</td>\n",
       "      <td>0.072165</td>\n",
       "      <td>I've called all  _MONEY_  credit bureaus about...</td>\n",
       "      <td>0.058659</td>\n",
       "    </tr>\n",
       "    <tr>\n",
       "      <th>469477</th>\n",
       "      <td>Credit reporting, credit repair services, or o...</td>\n",
       "      <td>I've called all 3 credit bureaus about these h...</td>\n",
       "      <td>0.070470</td>\n",
       "      <td>I've called all  _MONEY_  credit bureaus about...</td>\n",
       "      <td>0.058414</td>\n",
       "    </tr>\n",
       "    <tr>\n",
       "      <th>202752</th>\n",
       "      <td>Credit reporting, credit repair services, or o...</td>\n",
       "      <td>XXXX XXXX and XXXX XXXX opened a credit card i...</td>\n",
       "      <td>0.023614</td>\n",
       "      <td>XXX _CREDIT_CARD_ XXX and XXX _CREDIT_CARD_ XX...</td>\n",
       "      <td>0.045840</td>\n",
       "    </tr>\n",
       "    <tr>\n",
       "      <th>241913</th>\n",
       "      <td>Credit reporting, credit repair services, or o...</td>\n",
       "      <td>XXXX XXXX  and XXXX XXXX opened a credit card ...</td>\n",
       "      <td>0.023560</td>\n",
       "      <td>XXX _CREDIT_CARD_ XXX and XXX _CREDIT_CARD_ XX...</td>\n",
       "      <td>0.045493</td>\n",
       "    </tr>\n",
       "    <tr>\n",
       "      <th>88802</th>\n",
       "      <td>Mortgage</td>\n",
       "      <td>Faxed in mod said bk???? have been faxing for ...</td>\n",
       "      <td>0.037975</td>\n",
       "      <td>Faxed in mod said bk???? have been faxing for ...</td>\n",
       "      <td>0.037975</td>\n",
       "    </tr>\n",
       "    <tr>\n",
       "      <th>448534</th>\n",
       "      <td>Credit reporting, credit repair services, or o...</td>\n",
       "      <td>XX/XX/XXXX CN # XXXX XX/XX/XXXX CN # XXXX XX/X...</td>\n",
       "      <td>0.035533</td>\n",
       "      <td>_DATE_  CN #  _4LC_   _DATE_  CN #  _4LC_   _D...</td>\n",
       "      <td>0.034483</td>\n",
       "    </tr>\n",
       "    <tr>\n",
       "      <th>62395</th>\n",
       "      <td>Credit reporting, credit repair services, or o...</td>\n",
       "      <td>1. The second mortgage STILL is not being auto...</td>\n",
       "      <td>0.040426</td>\n",
       "      <td>_MONEY_ . The second mortgage STILL is not bei...</td>\n",
       "      <td>0.032178</td>\n",
       "    </tr>\n",
       "    <tr>\n",
       "      <th>272378</th>\n",
       "      <td>Credit reporting, credit repair services, or o...</td>\n",
       "      <td>the following accounts are not mine, please ha...</td>\n",
       "      <td>0.052142</td>\n",
       "      <td>the following accounts are not mine _MONEY_  p...</td>\n",
       "      <td>0.031818</td>\n",
       "    </tr>\n",
       "    <tr>\n",
       "      <th>201573</th>\n",
       "      <td>Credit reporting, credit repair services, or o...</td>\n",
       "      <td>CAPITAL ONE CC # XXXX HAS BEEN PAID OFF &gt; STIL...</td>\n",
       "      <td>0.031250</td>\n",
       "      <td>CAPITAL ONE CC #  _4LC_  HAS BEEN PAID OFF &gt; S...</td>\n",
       "      <td>0.029851</td>\n",
       "    </tr>\n",
       "  </tbody>\n",
       "</table>\n",
       "</div>"
      ],
      "text/plain": [
       "                                                    topic  \\\n",
       "192175  Credit reporting, credit repair services, or o...   \n",
       "469480  Credit reporting, credit repair services, or o...   \n",
       "469477  Credit reporting, credit repair services, or o...   \n",
       "202752  Credit reporting, credit repair services, or o...   \n",
       "241913  Credit reporting, credit repair services, or o...   \n",
       "88802                                            Mortgage   \n",
       "448534  Credit reporting, credit repair services, or o...   \n",
       "62395   Credit reporting, credit repair services, or o...   \n",
       "272378  Credit reporting, credit repair services, or o...   \n",
       "201573  Credit reporting, credit repair services, or o...   \n",
       "\n",
       "                                                    input  impurity  \\\n",
       "192175  I've called all 3 credit bureaus about these h...  0.070352   \n",
       "469480  I've called all 3 credit bureaus about these h...  0.072165   \n",
       "469477  I've called all 3 credit bureaus about these h...  0.070470   \n",
       "202752  XXXX XXXX and XXXX XXXX opened a credit card i...  0.023614   \n",
       "241913  XXXX XXXX  and XXXX XXXX opened a credit card ...  0.023560   \n",
       "88802   Faxed in mod said bk???? have been faxing for ...  0.037975   \n",
       "448534  XX/XX/XXXX CN # XXXX XX/XX/XXXX CN # XXXX XX/X...  0.035533   \n",
       "62395   1. The second mortgage STILL is not being auto...  0.040426   \n",
       "272378  the following accounts are not mine, please ha...  0.052142   \n",
       "201573  CAPITAL ONE CC # XXXX HAS BEEN PAID OFF > STIL...  0.031250   \n",
       "\n",
       "                                              clean_input  clean_impurity  \n",
       "192175  I've called all  _MONEY_  credit bureaus about...        0.059155  \n",
       "469480  I've called all  _MONEY_  credit bureaus about...        0.058659  \n",
       "469477  I've called all  _MONEY_  credit bureaus about...        0.058414  \n",
       "202752  XXX _CREDIT_CARD_ XXX and XXX _CREDIT_CARD_ XX...        0.045840  \n",
       "241913  XXX _CREDIT_CARD_ XXX and XXX _CREDIT_CARD_ XX...        0.045493  \n",
       "88802   Faxed in mod said bk???? have been faxing for ...        0.037975  \n",
       "448534  _DATE_  CN #  _4LC_   _DATE_  CN #  _4LC_   _D...        0.034483  \n",
       "62395   _MONEY_ . The second mortgage STILL is not bei...        0.032178  \n",
       "272378  the following accounts are not mine _MONEY_  p...        0.031818  \n",
       "201573  CAPITAL ONE CC #  _4LC_  HAS BEEN PAID OFF > S...        0.029851  "
      ]
     },
     "execution_count": 10,
     "metadata": {},
     "output_type": "execute_result"
    }
   ],
   "source": [
    "data['clean_input'] = data['input'].apply(clean)\n",
    "data['clean_impurity'] = data['clean_input'].apply(impurity)\n",
    "# sort by clean_impurity\n",
    "data.sort_values(by='clean_impurity', ascending=False).head(10)"
   ]
  },
  {
   "cell_type": "code",
   "execution_count": 11,
   "metadata": {},
   "outputs": [
    {
     "data": {
      "text/plain": [
       "\"I've called all  _MONEY_  credit bureaus about these hard inquiries that appeared on my credit score. I've spoken with consumer service and they did not do anything. All year long I have been fighting these hard inquiries and recently notice more duplicate inquires and some that re-appeared from  _MONEY_  years ago.  _4LC_  > _4LC_  > _4LC_  > _4LC_  > _4LC_  > _4LC_  > _4LC_  > _4LC_  > _4LC_  > _4LC_  > _4LC_  > _4LC_  > _4LC_  > _4LC_  > _4LC_  > _4LC_  > _4LC_  > _4LC_  > _4LC_  Equifax > _4LC_  > _4LC_  > _4LC_  > _4LC_  > _4LC_  > _4LC_  > _4LC_  > _4LC_  > _4LC_  > _4LC_  > _4LC_  > _4LC_  > _4LC_  > _4LC_  > _4LC_  > _4LC_  > _4LC_  > _4LC_  > _4LC_  > _4LC_  > _4LC_  > _4LC_  > _4LC_  > _4LC_\""
      ]
     },
     "execution_count": 11,
     "metadata": {},
     "output_type": "execute_result"
    }
   ],
   "source": [
    "data.loc[192175, 'clean_input']"
   ]
  },
  {
   "cell_type": "code",
   "execution_count": 12,
   "metadata": {},
   "outputs": [
    {
     "data": {
      "text/plain": [
       "(39353, 5)"
      ]
     },
     "execution_count": 12,
     "metadata": {},
     "output_type": "execute_result"
    }
   ],
   "source": [
    "#count where impurity == 0\n",
    "data[data['clean_impurity'] > 0].shape"
   ]
  },
  {
   "cell_type": "markdown",
   "metadata": {},
   "source": [
    "### Prepare the data"
   ]
  },
  {
   "cell_type": "code",
   "execution_count": 13,
   "metadata": {},
   "outputs": [],
   "source": [
    "from nltk.tokenize import sent_tokenize, word_tokenize\n",
    "import gensim\n",
    "from gensim.models import Word2Vec\n",
    "from nltk.corpus import stopwords\n",
    "from scipy.spatial.distance import cosine\n",
    "from sklearn.metrics.pairwise import cosine_similarity\n",
    "import numpy as np\n",
    "import string"
   ]
  },
  {
   "cell_type": "code",
   "execution_count": 14,
   "metadata": {},
   "outputs": [],
   "source": [
    "# tokenize the sentences and remove stop words\n",
    "def tokenize(text):\n",
    "    text = text.lower()\n",
    "    #text = text.translate(str.maketrans('', '', string.punctuation))\n",
    "    text = word_tokenize(text)\n",
    "    stop_words = set(stopwords.words('english'))\n",
    "    text = [w for w in text if not w in stop_words]\n",
    "    return text\n"
   ]
  },
  {
   "cell_type": "code",
   "execution_count": 15,
   "metadata": {},
   "outputs": [
    {
     "data": {
      "text/plain": [
       "0    [transworld, systems, inc., trying, collect, d...\n",
       "1    [would, like, request, suppression, following,...\n",
       "2    [past, _money_, weeks, _money_, receiving, exc...\n",
       "3    [filed, cfpb, _date_, _money_, _money_, listed...\n",
       "4    [several, accounts, balance, incorrect, couple...\n",
       "Name: tokens, dtype: object"
      ]
     },
     "execution_count": 15,
     "metadata": {},
     "output_type": "execute_result"
    }
   ],
   "source": [
    "data['tokens'] = data['clean_input'].apply(tokenize)\n",
    "data['tokens'].head()"
   ]
  },
  {
   "cell_type": "code",
   "execution_count": 16,
   "metadata": {},
   "outputs": [
    {
     "data": {
      "text/plain": [
       "['transworld',\n",
       " 'systems',\n",
       " 'inc.',\n",
       " 'trying',\n",
       " 'collect',\n",
       " 'debt',\n",
       " 'mine',\n",
       " '_money_',\n",
       " 'owed',\n",
       " 'inaccurate',\n",
       " '.']"
      ]
     },
     "execution_count": 16,
     "metadata": {},
     "output_type": "execute_result"
    }
   ],
   "source": [
    "# bring each sentence into a list\n",
    "sentences = data['tokens'].tolist()\n",
    "sentences[0]"
   ]
  },
  {
   "cell_type": "markdown",
   "metadata": {},
   "source": [
    "### 1. Use the customer complaint data to estimate the word embedding vectors"
   ]
  },
  {
   "cell_type": "code",
   "execution_count": 17,
   "metadata": {},
   "outputs": [],
   "source": [
    "# embeded vector for each word in each sentence\n",
    "from gensim.models import Word2Vec\n",
    "model = Word2Vec(sentences, min_count=1,workers=5, window=10, sg = 0) # 0 is CBOW, 1 is skip-gram"
   ]
  },
  {
   "cell_type": "code",
   "execution_count": 24,
   "metadata": {},
   "outputs": [
    {
     "data": {
      "text/plain": [
       "<gensim.models.word2vec.Word2Vec at 0x26e8bd91290>"
      ]
     },
     "execution_count": 24,
     "metadata": {},
     "output_type": "execute_result"
    }
   ],
   "source": [
    "model"
   ]
  },
  {
   "cell_type": "markdown",
   "metadata": {},
   "source": [
    "### 2. Find similar words to 'debt', 'collection', 'risk'"
   ]
  },
  {
   "cell_type": "code",
   "execution_count": 18,
   "metadata": {},
   "outputs": [
    {
     "data": {
      "text/plain": [
       "[('debts', 0.7937496900558472),\n",
       " ('debt-', 0.7645395994186401),\n",
       " ('deb', 0.7319937348365784),\n",
       " ('debt/account', 0.6826613545417786),\n",
       " ('erc', 0.5974106788635254),\n",
       " ('debtor', 0.547204315662384),\n",
       " ('procollect', 0.5384691953659058),\n",
       " ('creditor', 0.5276981592178345),\n",
       " ('pra', 0.5249327421188354),\n",
       " ('dci', 0.5230046510696411)]"
      ]
     },
     "execution_count": 18,
     "metadata": {},
     "output_type": "execute_result"
    }
   ],
   "source": [
    "# estimate metrics for each word\n",
    "model.wv.most_similar('debt')"
   ]
  },
  {
   "cell_type": "code",
   "execution_count": 19,
   "metadata": {},
   "outputs": [
    {
     "data": {
      "text/plain": [
       "[('collections', 0.8533772230148315),\n",
       " ('aargon', 0.8407561779022217),\n",
       " ('simons', 0.740139365196228),\n",
       " ('thomas', 0.7218372225761414),\n",
       " ('colection', 0.6900518536567688),\n",
       " ('simon', 0.6616423726081848),\n",
       " ('allegeddebt', 0.6466383934020996),\n",
       " ('collecton', 0.6460118293762207),\n",
       " ('attorney/collection', 0.6315765380859375),\n",
       " ('.collection', 0.6311960220336914)]"
      ]
     },
     "execution_count": 19,
     "metadata": {},
     "output_type": "execute_result"
    }
   ],
   "source": [
    "# estimate metrics for each word\n",
    "model.wv.most_similar('collection')"
   ]
  },
  {
   "cell_type": "code",
   "execution_count": 20,
   "metadata": {},
   "outputs": [
    {
     "data": {
      "text/plain": [
       "[('exposure', 0.652992308139801),\n",
       " ('risks', 0.6506571173667908),\n",
       " ('danger', 0.6296620965003967),\n",
       " ('reputational', 0.6250149011611938),\n",
       " ('lax', 0.592147946357727),\n",
       " ('disadvantage', 0.5779373049736023),\n",
       " ('likelihood', 0.5608205795288086),\n",
       " ('ranking', 0.5482564568519592),\n",
       " ('compromising', 0.5389745235443115),\n",
       " ('controls', 0.5361987352371216)]"
      ]
     },
     "execution_count": 20,
     "metadata": {},
     "output_type": "execute_result"
    }
   ],
   "source": [
    "# estimate metrics for each word\n",
    "model.wv.most_similar('risk')"
   ]
  },
  {
   "cell_type": "markdown",
   "metadata": {},
   "source": [
    "### 3. Plot the closest word using TSNE of the words in (2).\n"
   ]
  },
  {
   "cell_type": "code",
   "execution_count": 21,
   "metadata": {},
   "outputs": [],
   "source": [
    "from sklearn.manifold import TSNE\n",
    "import plotly.express as px\n",
    "import matplotlib.pyplot as plt\n",
    "# import similar_by_word\n",
    "from gensim.models import Word2Vec"
   ]
  },
  {
   "cell_type": "code",
   "execution_count": 22,
   "metadata": {},
   "outputs": [],
   "source": [
    "def plot_closest_words_tsne(model, word, size=10):\n",
    "    try:\n",
    "        arr = np.empty((0,100), dtype='f')\n",
    "        word_labels = [word]\n",
    "\n",
    "        # get close words\n",
    "        close_words = model.wv.most_similar(word, topn=size)\n",
    "\n",
    "        # add the vector for each of the closest words to the array\n",
    "        arr = np.append(arr, np.array([model.wv[word]]), axis=0)\n",
    "        for wrd_score in close_words:\n",
    "            wrd_vector = model.wv[wrd_score[0]]\n",
    "            word_labels.append(wrd_score[0])\n",
    "            arr = np.append(arr, np.array([wrd_vector]), axis=0)\n",
    "\n",
    "        # find tsne coords for 2 dimensions\n",
    "        tsne = TSNE(n_components=2, perplexity=5)\n",
    "        np.set_printoptions(suppress=True)\n",
    "        Y = tsne.fit_transform(arr)\n",
    "\n",
    "        x_coords = Y[:, 0]\n",
    "        y_coords = Y[:, 1]\n",
    "        return x_coords, y_coords, word_labels\n",
    "    except:\n",
    "        print(f\"Error plotting closest words for '{word}'\")\n",
    "        return [], [], []"
   ]
  },
  {
   "cell_type": "code",
   "execution_count": 23,
   "metadata": {},
   "outputs": [
    {
     "data": {
      "image/png": "[encoded data removed]",
      "text/plain": [
       "<Figure size 640x480 with 1 Axes>"
      ]
     },
     "metadata": {},
     "output_type": "display_data"
    }
   ],
   "source": [
    "# get tsne coordinates and word labels for each group\n",
    "x_coords1, y_coords1, word_labels1 = plot_closest_words_tsne(model, 'debt', size=10)\n",
    "x_coords2, y_coords2, word_labels2 = plot_closest_words_tsne(model, 'collection', size=10)\n",
    "x_coords3, y_coords3, word_labels3 = plot_closest_words_tsne(model, 'risk', size=10)\n",
    "\n",
    "# create a list of colors for each group\n",
    "colors1 = ['r'] * len(word_labels1)\n",
    "colors2 = ['g'] * len(word_labels2)\n",
    "colors3 = ['b'] * len(word_labels3)\n",
    "\n",
    "# combine the coordinates and labels for all groups\n",
    "x_coords = np.concatenate([x_coords1, x_coords2, x_coords3])\n",
    "y_coords = np.concatenate([y_coords1, y_coords2, y_coords3])\n",
    "word_labels = np.concatenate([word_labels1, word_labels2, word_labels3])\n",
    "colors = np.concatenate([colors1, colors2, colors3])\n",
    "\n",
    "# plot the scatter plot with different colors for each group\n",
    "plt.scatter(x_coords, y_coords, c=colors)\n",
    "for label, x, y in zip(word_labels, x_coords, y_coords):\n",
    "    plt.annotate(label, xy=(x, y), xytext=(0, 0), textcoords='offset points')\n",
    "plt.show()\n"
   ]
  }
 ],
 "metadata": {
  "kernelspec": {
   "display_name": "Python 3",
   "language": "python",
   "name": "python3"
  },
  "language_info": {
   "codemirror_mode": {
    "name": "ipython",
    "version": 3
   },
   "file_extension": ".py",
   "mimetype": "text/x-python",
   "name": "python",
   "nbconvert_exporter": "python",
   "pygments_lexer": "ipython3",
   "version": "3.11.2 (tags/v3.11.2:878ead1, Feb  7 2023, 16:38:35) [MSC v.1934 64 bit (AMD64)]"
  },
  "orig_nbformat": 4,
  "vscode": {
   "interpreter": {
    "hash": "d417a21d97a2e6b8832d21dc44f5cbe4be6e18325f874a8bb8484565b928cd54"
   }
  }
 },
 "nbformat": 4,
 "nbformat_minor": 2
}
