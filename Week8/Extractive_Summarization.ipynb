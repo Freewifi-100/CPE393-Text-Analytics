{
 "cells": [
  {
   "cell_type": "markdown",
   "metadata": {},
   "source": [
    "# Extractive Summarization\n",
    "\n",
    "Peeraya Khantaruangsakul 63070501054"
   ]
  },
  {
   "cell_type": "markdown",
   "metadata": {},
   "source": [
    "## import"
   ]
  },
  {
   "cell_type": "code",
   "execution_count": 1,
   "metadata": {},
   "outputs": [],
   "source": [
    "import numpy as np"
   ]
  },
  {
   "cell_type": "code",
   "execution_count": 2,
   "metadata": {},
   "outputs": [],
   "source": [
    "# importing required modules\n",
    "# from zipfile import ZipFile\n",
    "\n",
    "# with ZipFile('bbc-fulltext.zip', 'r') as zip:\n",
    "#     # printing all the contents of the zip file\n",
    "#     zip.printdir()\n",
    "  \n",
    "#     # extracting all the files\n",
    "#     print('Extracting all the files now...')\n",
    "#     zip.extractall()\n",
    "#     print('Done!')"
   ]
  },
  {
   "cell_type": "markdown",
   "metadata": {},
   "source": [
    "Below, business news is selected. *(Note that you are free to use other categories as you would like i.e. tech, sports, business, and entertainment.)*\n",
    "\n",
    "In the business category, there are 510 news articles. The goal is to summarize **each news article**, at least 10 news. The compression ratio should be within 25%-30%. "
   ]
  },
  {
   "cell_type": "markdown",
   "metadata": {},
   "source": [
    "## Sport category"
   ]
  },
  {
   "cell_type": "code",
   "execution_count": 3,
   "metadata": {},
   "outputs": [],
   "source": [
    "# !pip install path\n",
    "from path import Path\n",
    "\n",
    "documents = []\n",
    "documents_dir = Path('./bbc/business')\n",
    "for file_path in documents_dir.files('*.txt'):\n",
    "    with file_path.open(mode='rt', encoding='utf-8') as fp:\n",
    "        documents.append(fp.readlines())"
   ]
  },
  {
   "cell_type": "code",
   "execution_count": 4,
   "metadata": {},
   "outputs": [
    {
     "name": "stdout",
     "output_type": "stream",
     "text": [
      "['Ad sales boost Time Warner profit\\n', '\\n', 'Quarterly profits at US media giant TimeWarner jumped 76% to $1.13bn (£600m) for the three months to December, from $639m year-earlier.\\n', '\\n', 'The firm, which is now one of the biggest investors in Google, benefited from sales of high-speed internet connections and higher advert sales. TimeWarner said fourth quarter sales rose 2% to $11.1bn from $10.9bn. Its profits were buoyed by one-off gains which offset a profit dip at Warner Bros, and less users for AOL.\\n', '\\n', \"Time Warner said on Friday that it now owns 8% of search-engine Google. But its own internet business, AOL, had has mixed fortunes. It lost 464,000 subscribers in the fourth quarter profits were lower than in the preceding three quarters. However, the company said AOL's underlying profit before exceptional items rose 8% on the back of stronger internet advertising revenues. It hopes to increase subscribers by offering the online service free to TimeWarner internet customers and will try to sign up AOL's existing customers for high-speed broadband. TimeWarner also has to restate 2000 and 2003 results following a probe by the US Securities Exchange Commission (SEC), which is close to concluding.\\n\", '\\n', 'Time Warner\\'s fourth quarter profits were slightly better than analysts\\' expectations. But its film division saw profits slump 27% to $284m, helped by box-office flops Alexander and Catwoman, a sharp contrast to year-earlier, when the third and final film in the Lord of the Rings trilogy boosted results. For the full-year, TimeWarner posted a profit of $3.36bn, up 27% from its 2003 performance, while revenues grew 6.4% to $42.09bn. \"Our financial performance was strong, meeting or exceeding all of our full-year objectives and greatly enhancing our flexibility,\" chairman and chief executive Richard Parsons said. For 2005, TimeWarner is projecting operating earnings growth of around 5%, and also expects higher revenue and wider profit margins.\\n', '\\n', \"TimeWarner is to restate its accounts as part of efforts to resolve an inquiry into AOL by US market regulators. It has already offered to pay $300m to settle charges, in a deal that is under review by the SEC. The company said it was unable to estimate the amount it needed to set aside for legal reserves, which it previously set at $500m. It intends to adjust the way it accounts for a deal with German music publisher Bertelsmann's purchase of a stake in AOL Europe, which it had reported as advertising revenue. It will now book the sale of its stake in AOL Europe as a loss on the value of that stake.\\n\"]\n"
     ]
    }
   ],
   "source": [
    "print(documents[0])"
   ]
  },
  {
   "cell_type": "code",
   "execution_count": 5,
   "metadata": {},
   "outputs": [
    {
     "data": {
      "text/plain": [
       "510"
      ]
     },
     "execution_count": 5,
     "metadata": {},
     "output_type": "execute_result"
    }
   ],
   "source": [
    "len(documents)"
   ]
  },
  {
   "cell_type": "markdown",
   "metadata": {},
   "source": [
    "## LexRank\n",
    "\n",
    "**TODO #1**: Study an algorithm of LexRank and describe how it works.\n",
    "\n",
    "**TODO #2**: Use the LexRank library to summarize data as shown in the example below.\n",
    "\n",
    "Note: Make sure that, in your final summary the selected sentences must be ordered chronologically.\n",
    "\n",
    "Reference: [LexRank library](https://pypi.org/project/lexrank/)\n",
    "\n",
    "---\n",
    "\n"
   ]
  },
  {
   "cell_type": "markdown",
   "metadata": {},
   "source": [
    "The basic idea behind LexRank is to represent a text document as a graph, where sentences are nodes and edges represent the similarity between them. The similarity between two sentences is calculated based on the cosine similarity between their word vectors.\n",
    "\n",
    "The algorithm works in the following steps:\n",
    "\n",
    "1. **Preprocessing:** The text document is first preprocessed by removing stop words, punctuations, and stemming the words. The remaining words are then converted to vectors using a vectorization technique such as TF-IDF or Word2Vec.\n",
    "\n",
    "2. **Graph construction:** A graph is constructed where each node represents a sentence in the document. The edges between the nodes are weighted based on the cosine similarity between the corresponding sentence vectors. The edges are added only between the sentences that have a similarity score above a certain threshold.\n",
    "\n",
    "3. **Centrality calculation:** The centrality of each sentence is calculated using the PageRank algorithm. In LexRank, the PageRank algorithm is modified to take into account the edge weights of the graph.\n",
    "\n",
    "4. **Summary generation:** The top-ranked sentences are selected to form the summary. The number of sentences to be included in the summary is typically specified by the user."
   ]
  },
  {
   "cell_type": "code",
   "execution_count": 6,
   "metadata": {},
   "outputs": [],
   "source": [
    "from lexrank import STOPWORDS, LexRank"
   ]
  },
  {
   "cell_type": "code",
   "execution_count": 7,
   "metadata": {},
   "outputs": [],
   "source": [
    "lxr = LexRank(documents, stopwords=STOPWORDS['en'])"
   ]
  },
  {
   "cell_type": "code",
   "execution_count": 8,
   "metadata": {},
   "outputs": [
    {
     "name": "stdout",
     "output_type": "stream",
     "text": [
      "1 . [1.01043176 1.         1.18415239 1.         0.83446259 1.\n",
      " 1.17651062 1.         0.79444264] \n",
      "Doc :  356\n",
      "Original:  ['Soros group warns of Kazakh close\\n', '\\n', 'The Open Society Institute (OSI), financed by billionaire George Soros, has accused Kazakhstan officials of trying to close down its local office.\\n', '\\n', \"A demand for unpaid taxes and fines of $600,000 (£425,000) is politically motivated, the OSI claimed, adding that it paid the money in October. The organisation has found itself in trouble after being accused of helping to topple Georgia's former president. It denies having any role, but offices have had to close across the region.\\n\", '\\n', 'The OSI shut its office in Moscow last year and has withdrawn from Uzbekistan and Belarus. In the Ukraine earlier this year, Mr Soros - who took on the Bank of England in the 1990s - and won, was pelted by protestors. \"This legal prosecution can be considered an attempt by the government to force Soros Foundation-Kazakhstan to cease its activities in Kazakhstan and shut its doors for Kazakh citizens and organisations,\" the OSI said.\\n', '\\n', \"The OSI aims to promote democratic and open, market-based societies. Since the break up of the Soviet Union in 1991, Kazakhstan has been dominated by its president Nursultan Abish-uly Nazarbayev. He has powers for life, while insulting the president and officials has been made a criminal offence. The government controls the printing presses and most radio and TV transmission facilities. It operates the country's national radio and TV networks. Recent elections were criticised as flawed and the opposition claimed there was widespread vote rigging. Supporters, however, say he brings much needed stability to a region where Islamic militancy is on the rise. They also credit him with promoting inter-ethnic accord and pushing through harsh reforms.\\n\"] \n",
      "\n",
      "Summary:  [\"The OSI aims to promote democratic and open, market-based societies. Since the break up of the Soviet Union in 1991, Kazakhstan has been dominated by its president Nursultan Abish-uly Nazarbayev. He has powers for life, while insulting the president and officials has been made a criminal offence. The government controls the printing presses and most radio and TV transmission facilities. It operates the country's national radio and TV networks. Recent elections were criticised as flawed and the opposition claimed there was widespread vote rigging. Supporters, however, say he brings much needed stability to a region where Islamic militancy is on the rise. They also credit him with promoting inter-ethnic accord and pushing through harsh reforms.\\n\", '\\n']\n",
      "-------------------------------------------\n",
      "2 . [1.09894311 1.         1.01586888 1.         0.9811074  1.\n",
      " 0.90408061] \n",
      "Doc :  75\n",
      "Original:  ['Palestinian economy in decline\\n', '\\n', 'Despite a short-lived increase in Palestinian jobs in 2003, the economy is performing well below its potential, said a World Bank report.\\n', '\\n', \"Unemployment stood at 25%, compared with 10% before the uprising against Israeli occupation four years ago. Young people are particularly hard hit with 37% out of work, compared with 14% four years ago. But 104,000 new jobs were created last year during a brief easing of violence and closures. However, during the first half of this year, the Palestinian economy lost more than 22,000 jobs. Last year's growth rate of 6% can also be attributed to this temporary gap in violence, the report said. According to the report, Intifada, Closures and Palestinian Economic Crisis: An Assessment, there is a close link between the number of closures - both border closures and internal closures between cities - and Palestinian economic problems. The closures arranged by Israel restrict the movement of Palestinian people and goods, slowing down trade.\\n\", '\\n', '\"Closures are a key factor behind today\\'s economic crisis in the West Bank,\" said Nigel Roberts, World Bank country director for the West Bank and Gaza. Nearly half of all Palestinians - some 47% - live below the poverty line and are particularly vulnerable to economic shocks. The report said even more would be on the poverty line without an average of $950m a year from international donors, some of which goes towards job creation. It also called on the Palestinian Authority to revive its reform programme and maintain financial discipline to create an investment-friendly climate. This week Colin Powell, US Secretary of State was visiting the West Bank to stress US support for a smooth Palestinian election in January.\\n'] \n",
      "\n",
      "Summary:  [\"Unemployment stood at 25%, compared with 10% before the uprising against Israeli occupation four years ago. Young people are particularly hard hit with 37% out of work, compared with 14% four years ago. But 104,000 new jobs were created last year during a brief easing of violence and closures. However, during the first half of this year, the Palestinian economy lost more than 22,000 jobs. Last year's growth rate of 6% can also be attributed to this temporary gap in violence, the report said. According to the report, Intifada, Closures and Palestinian Economic Crisis: An Assessment, there is a close link between the number of closures - both border closures and internal closures between cities - and Palestinian economic problems. The closures arranged by Israel restrict the movement of Palestinian people and goods, slowing down trade.\\n\", 'Palestinian economy in decline\\n']\n",
      "-------------------------------------------\n",
      "3 . [1.06604094 1.         1.11505502 1.         0.91751359 1.\n",
      " 0.90139045] \n",
      "Doc :  136\n",
      "Original:  ['Bank set to leave rates on hold\\n', '\\n', 'UK interest rates are set to remain on hold at 4.75% following the latest meeting of the Bank of England.\\n', '\\n', \"The Bank's rate-setting committee has put up rates five times in the past year but rates have been on hold since September amid signs of a slowdown. Economic growth slowed in the previous quarter, as manufacturing output fell, while consumer confidence has slipped. There is also growing evidence that the previously booming UK housing market is now cooling.\\n\", '\\n', 'House prices fell 0.4% in October, according to the Nationwide, their biggest monthly fall since February 2001. Last month, Bank of England governor Mervyn King said that the economy had hit a \"softer patch\" after rapid economic growth in the first half of 2004. Richard Jeffrey, chief economist at Bridgewell Securities, said it was very unlikely that the Bank of England would put rates up again this time around. \"There have been sufficient signs in the economy of a slowdown to stay the Bank of England\\'s hand,\" he told BBC Radio 4\\'s Today programme. However, Mr Jeffrey said he believed the slowdown in economic activity was temporary and it was dangerous to assume that rates had peaked. \"I still think interest rates are going up,\" he said. \"We are not out of the woods.\"\\n'] \n",
      "\n",
      "Summary:  ['House prices fell 0.4% in October, according to the Nationwide, their biggest monthly fall since February 2001. Last month, Bank of England governor Mervyn King said that the economy had hit a \"softer patch\" after rapid economic growth in the first half of 2004. Richard Jeffrey, chief economist at Bridgewell Securities, said it was very unlikely that the Bank of England would put rates up again this time around. \"There have been sufficient signs in the economy of a slowdown to stay the Bank of England\\'s hand,\" he told BBC Radio 4\\'s Today programme. However, Mr Jeffrey said he believed the slowdown in economic activity was temporary and it was dangerous to assume that rates had peaked. \"I still think interest rates are going up,\" he said. \"We are not out of the woods.\"\\n', '\\n']\n",
      "-------------------------------------------\n",
      "4 . [0.98710494 1.         1.24594728 1.         1.10785799 1.\n",
      " 0.78473265 1.         0.95403059 1.         0.95765674 1.\n",
      " 0.96266981] \n",
      "Doc :  269\n",
      "Original:  ['Oil prices reach three-month low\\n', '\\n', 'Oil prices have fallen heavily for a second day, closing at three-month lows after news that US crude stocks have improved ahead of winter.\\n', '\\n', 'London Brent crude closed at $40.15 on Thursday - a drop of 5.1% - having dived below $40 a barrel for the first time since mid-September. US light crude traded in New York lost more than $2 to $43.25, its lowest close since 10 September. The price of both benchmark crudes has dropped 12% in two days. The falls were triggered when the Energy Information Administration (EIA) said on Wednesday that US crude stocks were 3.5% higher than a year ago. The news calmed worries about winter shortages. Weak US fuel and heating oil stocks have been a persistent factor in pushing up oil prices. \"It\\'s amazing how quickly sentiment changed,\" said Rick Mueller, an analyst at Energy Security Analysis. Analysts also attributed the fall to mild early-winter weather, which has tempered demand for heating oil.\\n', '\\n', 'The stronger fuel inventories helped boost US stock markets to nine-month highs on Wednesday, though only the Nasdaq index had hung onto those gains by the end of Thursday.\\n', '\\n', 'In London, the FTSE 100 index closed 15 points higher at 4,751. The long-awaited drop in oil prices helped to ease persistent investor jitters over the impact of energy costs on company profits and economic growth. However, traders warned that the fall could be short-lived if there is a cold snap in North America this winter or any major supply problems in other parts of the world.\\n', '\\n', \"The price of crude is still up about 30% on the start of 2004, but has fallen from the record of $55.67 set in late October. Opec nations have increased production to 25-year highs to meet global demand and this has helped rebuild US stocks hit by supply disruptions after Hurricane Ivan in September. Traders were also encouraged by comments on Wednesday from the energy minister of Opec member Algeria. Chakib Khelil said the cartel was likely to keep output unchanged when it meets next week. However, some analysts believe the sharp fall in crude prices may harden Opec's attitude to over-production, leading to a scaling back of oil output.\\n\", '\\n', 'Fears still remain over the level of US heating oil stocks, which are rising but remain down on 2004 levels. A cold spell in north America would start to deplete supplies and could spark further price rises. Analysts, however, say prices will fall further if inventories continue to rise. \"Mother Nature is going to be huge in the next several weeks,\" said Kyle Cooper, at Citigroup Global Markets. \"Long term I think we\\'re headed to $30-35 but I don\\'t think we\\'re doing that yet. We have a lot of winter left.\" John Person, president of National Futures Advisory Services, said the EIA data indicated there should be adequate supplies for the next three months in the US. .\\n'] \n",
      "\n",
      "Summary:  ['Fears still remain over the level of US heating oil stocks, which are rising but remain down on 2004 levels. A cold spell in north America would start to deplete supplies and could spark further price rises. Analysts, however, say prices will fall further if inventories continue to rise. \"Mother Nature is going to be huge in the next several weeks,\" said Kyle Cooper, at Citigroup Global Markets. \"Long term I think we\\'re headed to $30-35 but I don\\'t think we\\'re doing that yet. We have a lot of winter left.\" John Person, president of National Futures Advisory Services, said the EIA data indicated there should be adequate supplies for the next three months in the US. .\\n', '\\n']\n",
      "-------------------------------------------\n",
      "5 . [0.95193679 1.         1.18583208 1.         1.26789148 1.\n",
      " 0.76606228 1.         0.73317986 1.         1.27986521 1.\n",
      " 0.92379457 1.         0.89143771] \n",
      "Doc :  24\n",
      "Original:  ['Yukos loses US bankruptcy battle\\n', '\\n', 'A judge has dismissed an attempt by Russian oil giant Yukos to gain bankruptcy protection in the US.\\n', '\\n', 'Yukos filed for Chapter 11 protection in Houston in an unsuccessful attempt to halt the auction of its Yugansk division by the Russian authorities. The court ruling is a blow to efforts to get damages for the sale of Yugansk, which Yukos claims was illegally sold. Separately, former Yukos boss Mikhail Khodorkovsky began testimony on Friday in his trial for fraud and tax evasion.\\n', '\\n', 'Mr Khodorkovsky - who has been in jail for more than a year - pleaded not guilty to the charges brought against him and denied involvement in any criminal activities. \"I pride myself on heading for 15 years a number of successful companies and helping other enterprises rise from their knees,\" he told a Russian court.\\n', '\\n', 'Yugansk was auctioned to help pay off $27.5bn (£14.5bn) in unpaid taxes. It was bought for $9.4bn by a previously-unknown group, which was in turn bought up almost immediately by state-controlled oil company Rosneft.\\n', '\\n', 'Texas Judge Letitia Clark said Yukos did not have enough of a US presence to establish US jurisdiction. \"The vast majority of the business and financial activities of Yukos continue to occur in Russia,\" Judge Clark said in her ruling. \"Such activities require the continued participation of the Russian government.\" Yukos had argued that a US court was entitled to declare it bankrupt before its Yugansk unit was sold, since it has local bank accounts and its chief finance officer Bruce Misamore lives in Houston. Yukos claimed it sought help in the US because other forums - Russian courts and the European Court of Human Rights - were either unfriendly or offered less protection. Russia had indicated it would in any case not abide by the rulings of the US courts.\\n', '\\n', 'In her ruling, the judge acknowledged that \"it appears likely that agencies of the Russian government have acted in a manner that would be considered confiscatory under United States law\". But she said her role was simply to decide on jurisdiction. The US court\\'s jurisdiction had been challenged by Deutsche Bank and Gazpromneft, a former unit of Russian gas monopoly Gazprom which is due to merge with Rosneft. Analysts said the ability of Gazprom and Rosneft to trade freely overseas had been stifled while the ownership of Yugansk remained unclear.\\n', '\\n', 'Yukos said it would consider its options in light of the ruling. However, it claimed that the court had backed its argument in four out of five key issues. \"We believe the merits of our case are strong and simple,\" said chief executive Steven Theede. \"Our assets were illegally seized. We want them back or damages paid.\"\\n'] \n",
      "\n",
      "Summary:  ['Yukos said it would consider its options in light of the ruling. However, it claimed that the court had backed its argument in four out of five key issues. \"We believe the merits of our case are strong and simple,\" said chief executive Steven Theede. \"Our assets were illegally seized. We want them back or damages paid.\"\\n', '\\n']\n",
      "-------------------------------------------\n",
      "6 . [1.02117467 1.         0.96771069 1.         0.97035553 1.\n",
      " 1.0407591 ] \n",
      "Doc :  254\n",
      "Original:  ['Call to overhaul UK state pension\\n', '\\n', 'The UK pension system has been branded inadequate and too complex by a leading retirement think-tank.\\n', '\\n', 'The Pensions Policy Institute (PPI) said replacing the state pension with a \"citizen\\'s pension\" would help tackle inequality and complexity. The change would see pensions being calculated on length of residency in the UK rather than National Insurance (NI) contributions. Reform could reduce poverty by aiding people with broken employment records.\\n', '\\n', \"The PPI added that once the state system was reformed the government should look at options to overhaul private and workplace pensions. The think tank's proposals were made in response to the recent publication of the Pensions Commission's initial report into UK retirement savings. According to the Pensions Commission's report 12 million working people are not saving enough for their retirement. As a result, living standards could fall for the next generation of UK pensioners. The report added that a combination of higher taxes, higher savings and/or a higher average retirement age was needed to solve the UK pension crisis.\\n\"] \n",
      "\n",
      "Summary:  [\"The PPI added that once the state system was reformed the government should look at options to overhaul private and workplace pensions. The think tank's proposals were made in response to the recent publication of the Pensions Commission's initial report into UK retirement savings. According to the Pensions Commission's report 12 million working people are not saving enough for their retirement. As a result, living standards could fall for the next generation of UK pensioners. The report added that a combination of higher taxes, higher savings and/or a higher average retirement age was needed to solve the UK pension crisis.\\n\", '\\n']\n",
      "-------------------------------------------\n",
      "7 . [0.96770539 1.         1.07804297 1.         0.95425164] \n",
      "Doc :  417\n",
      "Original:  [\"US firm 'bids for Lacroix label'\\n\", '\\n', 'A US firm has said it is in final negotiations with luxury goods group LVMH to buy the loss-making Christian Lacroix haute-couture house.\\n', '\\n', 'Paris-based LVMH has been selling non-core businesses and focusing on its most profitable labels including Moet & Chandon champagne and Louis Vuitton. Privately-held Falic Group bought two cosmetics brands, Hard Candy and Urban Decay, from LVMH in early 2003. The Florida company also own a chain of 90 duty free stores in the US. LVMH refused to comment on the reports. But one of the three brothers behind the Falic Group said the firm had also held talks with the designer Christian Lacroix, and wished to retain him. \"We are buying his name,\" Simon Falic told the Reuters news agency. \"We have plans to increase the exposure of the brand and increase the volume of business.\"\\n'] \n",
      "\n",
      "Summary:  ['A US firm has said it is in final negotiations with luxury goods group LVMH to buy the loss-making Christian Lacroix haute-couture house.\\n', '\\n']\n",
      "-------------------------------------------\n",
      "8 . [0.88385426 1.         1.06425797 1.         1.05188777] \n",
      "Doc :  92\n",
      "Original:  ['Argentina closes $102.6bn debt swap\\n', '\\n', 'Argentina is set to close its $102.6bn (£53.51bn) debt restructuring offer for bondholders later on Friday, with the government hopeful that most creditors will accept the deal.\\n', '\\n', 'The estimated loss to bondholders is up to 70% of the original value of the bonds, yet the majority are expected to accept the government\\'s offer. Argentina defaulted on its debt three years ago, the biggest sovereign default in modern history. Yesterday Argentina\\'s economy minister, Roberto Lavagna, said that he estimated that the results of the restructuring would be ready around next Thursday (3 March). Argentina\\'s President, Nestor Kirchner, said on Friday: \"A year ago when we started the swap (negotiations), they told us we were crazy, that we were irrational.\" But he added that his government was close to achieving: \"The best debt renegotiation in history.\" The country has been in default on the $102.6bn - based on an original debt of $81.8bn plus interest - for the past three years. If the offer does not go ahead, international lawsuits on behalf of aggrieved investors could follow but analysts are optimistic that it will go through, despite the tough terms for bondholders. About 70% to 80% of bondholders are expected to accept the terms of the offer. By 18 February, creditors holding $41bn - or 40% of the total debt - had accepted the offer. Sorting out its debt would enhance the country\\'s credibility on international markets and enable it to attract more foreign investment. Of Argentina\\'s bondholders, 38.4% reside in Argentina, 15.6% in Italy, 10.3% in Switzerland, 9.1% in the United States, 5.1% in Germany and 3.1% in Japan. Investors in the UK, Holland and Luxembourg have about 1% each and the remainder were not broken down by country. The deal is likely to be taken up most enthusiastically by domestic investors, who will benefit if Argentina\\'s economy becomes more stable.\\n'] \n",
      "\n",
      "Summary:  ['The estimated loss to bondholders is up to 70% of the original value of the bonds, yet the majority are expected to accept the government\\'s offer. Argentina defaulted on its debt three years ago, the biggest sovereign default in modern history. Yesterday Argentina\\'s economy minister, Roberto Lavagna, said that he estimated that the results of the restructuring would be ready around next Thursday (3 March). Argentina\\'s President, Nestor Kirchner, said on Friday: \"A year ago when we started the swap (negotiations), they told us we were crazy, that we were irrational.\" But he added that his government was close to achieving: \"The best debt renegotiation in history.\" The country has been in default on the $102.6bn - based on an original debt of $81.8bn plus interest - for the past three years. If the offer does not go ahead, international lawsuits on behalf of aggrieved investors could follow but analysts are optimistic that it will go through, despite the tough terms for bondholders. About 70% to 80% of bondholders are expected to accept the terms of the offer. By 18 February, creditors holding $41bn - or 40% of the total debt - had accepted the offer. Sorting out its debt would enhance the country\\'s credibility on international markets and enable it to attract more foreign investment. Of Argentina\\'s bondholders, 38.4% reside in Argentina, 15.6% in Italy, 10.3% in Switzerland, 9.1% in the United States, 5.1% in Germany and 3.1% in Japan. Investors in the UK, Holland and Luxembourg have about 1% each and the remainder were not broken down by country. The deal is likely to be taken up most enthusiastically by domestic investors, who will benefit if Argentina\\'s economy becomes more stable.\\n', '\\n']\n",
      "-------------------------------------------\n",
      "9 . [1.12952774 1.         1.08106124 1.         0.85618635 1.\n",
      " 0.93322468] \n",
      "Doc :  69\n",
      "Original:  ['Circuit City gets takeover offer\\n', '\\n', 'Circuit City Stores, the second-largest electronics retailer in the US, has received a $3.25bn (£1.7bn) takeover offer.\\n', '\\n', \"The bid has come from Boston-based private investment firm Highfields Capital Management, which already owns 6.7% of Circuit City's shares. Shares in the retailer were up 19.6% at $17.04 in Tuesday morning trading in New York following the announcement. Highfield said that it intends to take the Virginia-based firm private.\\n\", '\\n', '\"Such a transformation would eliminate the public-company transparency into the company\\'s operating strategy that is uniquely damaging in a highly competitive industry where Circuit City is going head-to-head with a tough and entrenched rival,\" Highfield said. One analyst suggested that a bidding battle may now begin for the company. Bill Armstrong, a retail analyst at CL King & Associates, said he expected to see other private investment firms come forward for Circuit City. The retailer is debt free with a good cash flow, despite the fact that it is said to be struggling to keep up with market leader Best Buy and cut-price competition from the likes of Wal-Mart, said Mr Armstrong.\\n'] \n",
      "\n",
      "Summary:  ['Circuit City Stores, the second-largest electronics retailer in the US, has received a $3.25bn (£1.7bn) takeover offer.\\n', 'Circuit City gets takeover offer\\n']\n",
      "-------------------------------------------\n",
      "10 . [0.99390596 1.         1.01773717 1.         0.95403441 1.\n",
      " 1.04255344 1.         0.99176901] \n",
      "Doc :  318\n",
      "Original:  ['Euronext joins bid battle for LSE\\n', '\\n', 'Pan-European stock market Euronext has approached the London Stock Exchange (LSE) about a possible takeover bid.\\n', '\\n', '\"The approach is at an early stage and therefore does not require a response at this point,\" LSE said. Talks with the European stock market and with rival bidder Deutsche Boerse will continue, the LSE said. Last week, the group rejected a £1.3bn ($2.5bn) takeover offer from Deutsche Boerse, claiming that it undervalued the business. LSE saw its shares surge 4.9% to a new high of 583p in early trade, following the announcement on Monday.\\n', '\\n', \"The offer follows widespread media speculation that Euronext would make an offer for LSE. Experts now widely expect a bidding war for Europe's biggest stock market, which lists stocks with a total capitalisation of £1.4 trillion, to break out. Commentators say that a deal with Euronext, which owns the Liffe derivatives exchange in London and combines the Paris, Amsterdam and Lisbon stock exchanges, could potentially offer the LSE more cost savings than a deal with Deutsche Boerse.\\n\", '\\n', 'A weekend report in the Telegraph had quoted an unnamed executive at Euronext as saying the group would make a cash bid to trump Deutsche Boerse\\'s offer. \"Because we already own Liffe in London, the cost savings available to us from a merger are far greater than for Deutsche Boerse,\" the newspaper quoted the executive as saying. Euronext chief executive Jean-Francois Theodore is reported to have already held private talks with LSE\\'s chief executive Clara Furse. Further reports had suggested that Euronext could make an offer in excess of the LSE\\'s 533p a share closing price on Friday. However, Euronext said it could not guarantee \"at this stage\" that a firm offer would be made for LSE. There has been extensive speculation about a possible takeover of the company since an attempted merger with Deutsche Boerse failed in 2000.\\n'] \n",
      "\n",
      "Summary:  ['A weekend report in the Telegraph had quoted an unnamed executive at Euronext as saying the group would make a cash bid to trump Deutsche Boerse\\'s offer. \"Because we already own Liffe in London, the cost savings available to us from a merger are far greater than for Deutsche Boerse,\" the newspaper quoted the executive as saying. Euronext chief executive Jean-Francois Theodore is reported to have already held private talks with LSE\\'s chief executive Clara Furse. Further reports had suggested that Euronext could make an offer in excess of the LSE\\'s 533p a share closing price on Friday. However, Euronext said it could not guarantee \"at this stage\" that a firm offer would be made for LSE. There has been extensive speculation about a possible takeover of the company since an attempted merger with Deutsche Boerse failed in 2000.\\n', \"The offer follows widespread media speculation that Euronext would make an offer for LSE. Experts now widely expect a bidding war for Europe's biggest stock market, which lists stocks with a total capitalisation of £1.4 trillion, to break out. Commentators say that a deal with Euronext, which owns the Liffe derivatives exchange in London and combines the Paris, Amsterdam and Lisbon stock exchanges, could potentially offer the LSE more cost savings than a deal with Deutsche Boerse.\\n\"]\n",
      "-------------------------------------------\n"
     ]
    }
   ],
   "source": [
    "# 'fast_power_method' speeds up the calculation, but requires more RAM\n",
    "number = []\n",
    "for i in range(0, 10):\n",
    "    n = np.random.randint(len(documents))\n",
    "    number.append(n)\n",
    "    scores_cont = lxr.rank_sentences(documents[n], threshold=None,fast_power_method=False,)\n",
    "    print(i+1, '.', scores_cont, '\\nDoc : ', n)\n",
    "    summary = lxr.get_summary(documents[n], summary_size=2, threshold=.25)\n",
    "    print('Original: ', documents[n], '\\n')\n",
    "    print('Summary: ', summary)\n",
    "    print('-------------------------------------------')"
   ]
  },
  {
   "cell_type": "markdown",
   "metadata": {},
   "source": [
    "## TextRank\n",
    "**TODO #3**: Study an algorithm of TextRank and describe how it works.\n",
    "\n",
    "**TODO #4**: Use the TextRank library to summarize data as shown in the example below.\n",
    "\n",
    "Note: Make sure that, in your final summary the selected sentences must be ordered chronologically.\n",
    "\n",
    "Reference: [TextRank library](https://pypi.org/project/summa/)\n",
    "\n",
    "---"
   ]
  },
  {
   "cell_type": "markdown",
   "metadata": {},
   "source": [
    "TextRank is based on the PageRank algorithm used by Google to rank web pages in search results. The algorithm analyzes the relationships between words or phrases in a text and assigns a score to each one based on its importance in the document. Here's how TextRank works:\n",
    "\n",
    "1. **Preprocessing:** The text is preprocessed to remove stop words, punctuation, and other non-essential words. Stemming and lemmatization may also be applied to normalize the words.\n",
    "\n",
    "2. **Graph Creation:** A graph is created where each word in the text is represented by a node, and edges are created between the nodes to represent the relationship between them. The relationship between two words is determined by their co-occurrence within a given window of words.\n",
    "\n",
    "3. **Edge Weighting:** The edges are weighted based on the strength of the relationship between the nodes. The strength of the relationship is calculated using a similarity metric such as cosine similarity, Jaccard similarity, or some other measure of similarity.\n",
    "\n",
    "4. **Ranking:** The PageRank algorithm is applied to the graph to assign a score to each node based on the importance of the word in the text. The score of a node is calculated based on the scores of the nodes that are connected to it. The more important a word is, the higher its score will be.\n",
    "\n",
    "5. **Summary/Extraction:** The nodes with the highest scores are selected as keywords or key phrases, or used to create a summary of the text. The number of nodes selected depends on the desired length of the summary or the number of keywords needed."
   ]
  },
  {
   "cell_type": "code",
   "execution_count": 9,
   "metadata": {},
   "outputs": [],
   "source": [
    "from summa.summarizer import summarize"
   ]
  },
  {
   "cell_type": "code",
   "execution_count": 10,
   "metadata": {},
   "outputs": [
    {
     "name": "stdout",
     "output_type": "stream",
     "text": [
      "1 . Original:  ['Soros group warns of Kazakh close\\n', '\\n', 'The Open Society Institute (OSI), financed by billionaire George Soros, has accused Kazakhstan officials of trying to close down its local office.\\n', '\\n', \"A demand for unpaid taxes and fines of $600,000 (£425,000) is politically motivated, the OSI claimed, adding that it paid the money in October. The organisation has found itself in trouble after being accused of helping to topple Georgia's former president. It denies having any role, but offices have had to close across the region.\\n\", '\\n', 'The OSI shut its office in Moscow last year and has withdrawn from Uzbekistan and Belarus. In the Ukraine earlier this year, Mr Soros - who took on the Bank of England in the 1990s - and won, was pelted by protestors. \"This legal prosecution can be considered an attempt by the government to force Soros Foundation-Kazakhstan to cease its activities in Kazakhstan and shut its doors for Kazakh citizens and organisations,\" the OSI said.\\n', '\\n', \"The OSI aims to promote democratic and open, market-based societies. Since the break up of the Soviet Union in 1991, Kazakhstan has been dominated by its president Nursultan Abish-uly Nazarbayev. He has powers for life, while insulting the president and officials has been made a criminal offence. The government controls the printing presses and most radio and TV transmission facilities. It operates the country's national radio and TV networks. Recent elections were criticised as flawed and the opposition claimed there was widespread vote rigging. Supporters, however, say he brings much needed stability to a region where Islamic militancy is on the rise. They also credit him with promoting inter-ethnic accord and pushing through harsh reforms.\\n\"] \n",
      "\n",
      "Summary:  The Open Society Institute (OSI), financed by billionaire George Soros, has accused Kazakhstan officials of trying to close down its local office.\n",
      "The OSI shut its office in Moscow last year and has withdrawn from Uzbekistan and Belarus.\n",
      "\"This legal prosecution can be considered an attempt by the government to force Soros Foundation-Kazakhstan to cease its activities in Kazakhstan and shut its doors for Kazakh citizens and organisations,\" the OSI said.\n",
      "The OSI aims to promote democratic and open, market-based societies.\n",
      "-------------------------------------------\n",
      "2 . Original:  ['Palestinian economy in decline\\n', '\\n', 'Despite a short-lived increase in Palestinian jobs in 2003, the economy is performing well below its potential, said a World Bank report.\\n', '\\n', \"Unemployment stood at 25%, compared with 10% before the uprising against Israeli occupation four years ago. Young people are particularly hard hit with 37% out of work, compared with 14% four years ago. But 104,000 new jobs were created last year during a brief easing of violence and closures. However, during the first half of this year, the Palestinian economy lost more than 22,000 jobs. Last year's growth rate of 6% can also be attributed to this temporary gap in violence, the report said. According to the report, Intifada, Closures and Palestinian Economic Crisis: An Assessment, there is a close link between the number of closures - both border closures and internal closures between cities - and Palestinian economic problems. The closures arranged by Israel restrict the movement of Palestinian people and goods, slowing down trade.\\n\", '\\n', '\"Closures are a key factor behind today\\'s economic crisis in the West Bank,\" said Nigel Roberts, World Bank country director for the West Bank and Gaza. Nearly half of all Palestinians - some 47% - live below the poverty line and are particularly vulnerable to economic shocks. The report said even more would be on the poverty line without an average of $950m a year from international donors, some of which goes towards job creation. It also called on the Palestinian Authority to revive its reform programme and maintain financial discipline to create an investment-friendly climate. This week Colin Powell, US Secretary of State was visiting the West Bank to stress US support for a smooth Palestinian election in January.\\n'] \n",
      "\n",
      "Summary:  Despite a short-lived increase in Palestinian jobs in 2003, the economy is performing well below its potential, said a World Bank report.\n",
      "However, during the first half of this year, the Palestinian economy lost more than 22,000 jobs.\n",
      "The report said even more would be on the poverty line without an average of $950m a year from international donors, some of which goes towards job creation.\n",
      "-------------------------------------------\n",
      "3 . Original:  ['Bank set to leave rates on hold\\n', '\\n', 'UK interest rates are set to remain on hold at 4.75% following the latest meeting of the Bank of England.\\n', '\\n', \"The Bank's rate-setting committee has put up rates five times in the past year but rates have been on hold since September amid signs of a slowdown. Economic growth slowed in the previous quarter, as manufacturing output fell, while consumer confidence has slipped. There is also growing evidence that the previously booming UK housing market is now cooling.\\n\", '\\n', 'House prices fell 0.4% in October, according to the Nationwide, their biggest monthly fall since February 2001. Last month, Bank of England governor Mervyn King said that the economy had hit a \"softer patch\" after rapid economic growth in the first half of 2004. Richard Jeffrey, chief economist at Bridgewell Securities, said it was very unlikely that the Bank of England would put rates up again this time around. \"There have been sufficient signs in the economy of a slowdown to stay the Bank of England\\'s hand,\" he told BBC Radio 4\\'s Today programme. However, Mr Jeffrey said he believed the slowdown in economic activity was temporary and it was dangerous to assume that rates had peaked. \"I still think interest rates are going up,\" he said. \"We are not out of the woods.\"\\n'] \n",
      "\n",
      "Summary:  UK interest rates are set to remain on hold at 4.75% following the latest meeting of the Bank of England.\n",
      "The Bank's rate-setting committee has put up rates five times in the past year but rates have been on hold since September amid signs of a slowdown.\n",
      "Richard Jeffrey, chief economist at Bridgewell Securities, said it was very unlikely that the Bank of England would put rates up again this time around.\n",
      "-------------------------------------------\n",
      "4 . Original:  ['Oil prices reach three-month low\\n', '\\n', 'Oil prices have fallen heavily for a second day, closing at three-month lows after news that US crude stocks have improved ahead of winter.\\n', '\\n', 'London Brent crude closed at $40.15 on Thursday - a drop of 5.1% - having dived below $40 a barrel for the first time since mid-September. US light crude traded in New York lost more than $2 to $43.25, its lowest close since 10 September. The price of both benchmark crudes has dropped 12% in two days. The falls were triggered when the Energy Information Administration (EIA) said on Wednesday that US crude stocks were 3.5% higher than a year ago. The news calmed worries about winter shortages. Weak US fuel and heating oil stocks have been a persistent factor in pushing up oil prices. \"It\\'s amazing how quickly sentiment changed,\" said Rick Mueller, an analyst at Energy Security Analysis. Analysts also attributed the fall to mild early-winter weather, which has tempered demand for heating oil.\\n', '\\n', 'The stronger fuel inventories helped boost US stock markets to nine-month highs on Wednesday, though only the Nasdaq index had hung onto those gains by the end of Thursday.\\n', '\\n', 'In London, the FTSE 100 index closed 15 points higher at 4,751. The long-awaited drop in oil prices helped to ease persistent investor jitters over the impact of energy costs on company profits and economic growth. However, traders warned that the fall could be short-lived if there is a cold snap in North America this winter or any major supply problems in other parts of the world.\\n', '\\n', \"The price of crude is still up about 30% on the start of 2004, but has fallen from the record of $55.67 set in late October. Opec nations have increased production to 25-year highs to meet global demand and this has helped rebuild US stocks hit by supply disruptions after Hurricane Ivan in September. Traders were also encouraged by comments on Wednesday from the energy minister of Opec member Algeria. Chakib Khelil said the cartel was likely to keep output unchanged when it meets next week. However, some analysts believe the sharp fall in crude prices may harden Opec's attitude to over-production, leading to a scaling back of oil output.\\n\", '\\n', 'Fears still remain over the level of US heating oil stocks, which are rising but remain down on 2004 levels. A cold spell in north America would start to deplete supplies and could spark further price rises. Analysts, however, say prices will fall further if inventories continue to rise. \"Mother Nature is going to be huge in the next several weeks,\" said Kyle Cooper, at Citigroup Global Markets. \"Long term I think we\\'re headed to $30-35 but I don\\'t think we\\'re doing that yet. We have a lot of winter left.\" John Person, president of National Futures Advisory Services, said the EIA data indicated there should be adequate supplies for the next three months in the US. .\\n'] \n",
      "\n",
      "Summary:  Oil prices reach three-month low\n",
      "Oil prices have fallen heavily for a second day, closing at three-month lows after news that US crude stocks have improved ahead of winter.\n",
      "The falls were triggered when the Energy Information Administration (EIA) said on Wednesday that US crude stocks were 3.5% higher than a year ago.\n",
      "Weak US fuel and heating oil stocks have been a persistent factor in pushing up oil prices.\n",
      "The long-awaited drop in oil prices helped to ease persistent investor jitters over the impact of energy costs on company profits and economic growth.\n",
      "However, some analysts believe the sharp fall in crude prices may harden Opec's attitude to over-production, leading to a scaling back of oil output.\n",
      "-------------------------------------------\n",
      "5 . Original:  ['Yukos loses US bankruptcy battle\\n', '\\n', 'A judge has dismissed an attempt by Russian oil giant Yukos to gain bankruptcy protection in the US.\\n', '\\n', 'Yukos filed for Chapter 11 protection in Houston in an unsuccessful attempt to halt the auction of its Yugansk division by the Russian authorities. The court ruling is a blow to efforts to get damages for the sale of Yugansk, which Yukos claims was illegally sold. Separately, former Yukos boss Mikhail Khodorkovsky began testimony on Friday in his trial for fraud and tax evasion.\\n', '\\n', 'Mr Khodorkovsky - who has been in jail for more than a year - pleaded not guilty to the charges brought against him and denied involvement in any criminal activities. \"I pride myself on heading for 15 years a number of successful companies and helping other enterprises rise from their knees,\" he told a Russian court.\\n', '\\n', 'Yugansk was auctioned to help pay off $27.5bn (£14.5bn) in unpaid taxes. It was bought for $9.4bn by a previously-unknown group, which was in turn bought up almost immediately by state-controlled oil company Rosneft.\\n', '\\n', 'Texas Judge Letitia Clark said Yukos did not have enough of a US presence to establish US jurisdiction. \"The vast majority of the business and financial activities of Yukos continue to occur in Russia,\" Judge Clark said in her ruling. \"Such activities require the continued participation of the Russian government.\" Yukos had argued that a US court was entitled to declare it bankrupt before its Yugansk unit was sold, since it has local bank accounts and its chief finance officer Bruce Misamore lives in Houston. Yukos claimed it sought help in the US because other forums - Russian courts and the European Court of Human Rights - were either unfriendly or offered less protection. Russia had indicated it would in any case not abide by the rulings of the US courts.\\n', '\\n', 'In her ruling, the judge acknowledged that \"it appears likely that agencies of the Russian government have acted in a manner that would be considered confiscatory under United States law\". But she said her role was simply to decide on jurisdiction. The US court\\'s jurisdiction had been challenged by Deutsche Bank and Gazpromneft, a former unit of Russian gas monopoly Gazprom which is due to merge with Rosneft. Analysts said the ability of Gazprom and Rosneft to trade freely overseas had been stifled while the ownership of Yugansk remained unclear.\\n', '\\n', 'Yukos said it would consider its options in light of the ruling. However, it claimed that the court had backed its argument in four out of five key issues. \"We believe the merits of our case are strong and simple,\" said chief executive Steven Theede. \"Our assets were illegally seized. We want them back or damages paid.\"\\n'] \n",
      "\n",
      "Summary:  A judge has dismissed an attempt by Russian oil giant Yukos to gain bankruptcy protection in the US.\n",
      "The court ruling is a blow to efforts to get damages for the sale of Yugansk, which Yukos claims was illegally sold.\n",
      "\"The vast majority of the business and financial activities of Yukos continue to occur in Russia,\" Judge Clark said in her ruling.\n",
      "\"Such activities require the continued participation of the Russian government.\" Yukos had argued that a US court was entitled to declare it bankrupt before its Yugansk unit was sold, since it has local bank accounts and its chief finance officer Bruce Misamore lives in Houston.\n",
      "Yukos claimed it sought help in the US because other forums - Russian courts and the European Court of Human Rights - were either unfriendly or offered less protection.\n",
      "-------------------------------------------\n",
      "6 . Original:  ['Call to overhaul UK state pension\\n', '\\n', 'The UK pension system has been branded inadequate and too complex by a leading retirement think-tank.\\n', '\\n', 'The Pensions Policy Institute (PPI) said replacing the state pension with a \"citizen\\'s pension\" would help tackle inequality and complexity. The change would see pensions being calculated on length of residency in the UK rather than National Insurance (NI) contributions. Reform could reduce poverty by aiding people with broken employment records.\\n', '\\n', \"The PPI added that once the state system was reformed the government should look at options to overhaul private and workplace pensions. The think tank's proposals were made in response to the recent publication of the Pensions Commission's initial report into UK retirement savings. According to the Pensions Commission's report 12 million working people are not saving enough for their retirement. As a result, living standards could fall for the next generation of UK pensioners. The report added that a combination of higher taxes, higher savings and/or a higher average retirement age was needed to solve the UK pension crisis.\\n\"] \n",
      "\n",
      "Summary:  Call to overhaul UK state pension\n",
      "The think tank's proposals were made in response to the recent publication of the Pensions Commission's initial report into UK retirement savings.\n",
      "-------------------------------------------\n",
      "7 . Original:  [\"US firm 'bids for Lacroix label'\\n\", '\\n', 'A US firm has said it is in final negotiations with luxury goods group LVMH to buy the loss-making Christian Lacroix haute-couture house.\\n', '\\n', 'Paris-based LVMH has been selling non-core businesses and focusing on its most profitable labels including Moet & Chandon champagne and Louis Vuitton. Privately-held Falic Group bought two cosmetics brands, Hard Candy and Urban Decay, from LVMH in early 2003. The Florida company also own a chain of 90 duty free stores in the US. LVMH refused to comment on the reports. But one of the three brothers behind the Falic Group said the firm had also held talks with the designer Christian Lacroix, and wished to retain him. \"We are buying his name,\" Simon Falic told the Reuters news agency. \"We have plans to increase the exposure of the brand and increase the volume of business.\"\\n'] \n",
      "\n",
      "Summary:  A US firm has said it is in final negotiations with luxury goods group LVMH to buy the loss-making Christian Lacroix haute-couture house.\n",
      "But one of the three brothers behind the Falic Group said the firm had also held talks with the designer Christian Lacroix, and wished to retain him.\n",
      "-------------------------------------------\n",
      "8 . Original:  ['Argentina closes $102.6bn debt swap\\n', '\\n', 'Argentina is set to close its $102.6bn (£53.51bn) debt restructuring offer for bondholders later on Friday, with the government hopeful that most creditors will accept the deal.\\n', '\\n', 'The estimated loss to bondholders is up to 70% of the original value of the bonds, yet the majority are expected to accept the government\\'s offer. Argentina defaulted on its debt three years ago, the biggest sovereign default in modern history. Yesterday Argentina\\'s economy minister, Roberto Lavagna, said that he estimated that the results of the restructuring would be ready around next Thursday (3 March). Argentina\\'s President, Nestor Kirchner, said on Friday: \"A year ago when we started the swap (negotiations), they told us we were crazy, that we were irrational.\" But he added that his government was close to achieving: \"The best debt renegotiation in history.\" The country has been in default on the $102.6bn - based on an original debt of $81.8bn plus interest - for the past three years. If the offer does not go ahead, international lawsuits on behalf of aggrieved investors could follow but analysts are optimistic that it will go through, despite the tough terms for bondholders. About 70% to 80% of bondholders are expected to accept the terms of the offer. By 18 February, creditors holding $41bn - or 40% of the total debt - had accepted the offer. Sorting out its debt would enhance the country\\'s credibility on international markets and enable it to attract more foreign investment. Of Argentina\\'s bondholders, 38.4% reside in Argentina, 15.6% in Italy, 10.3% in Switzerland, 9.1% in the United States, 5.1% in Germany and 3.1% in Japan. Investors in the UK, Holland and Luxembourg have about 1% each and the remainder were not broken down by country. The deal is likely to be taken up most enthusiastically by domestic investors, who will benefit if Argentina\\'s economy becomes more stable.\\n'] \n",
      "\n",
      "Summary:  Argentina closes $102.6bn debt swap\n",
      "Argentina is set to close its $102.6bn (£53.51bn) debt restructuring offer for bondholders later on Friday, with the government hopeful that most creditors will accept the deal.\n",
      "Argentina's President, Nestor Kirchner, said on Friday: \"A year ago when we started the swap (negotiations), they told us we were crazy, that we were irrational.\" But he added that his government was close to achieving: \"The best debt renegotiation in history.\" The country has been in default on the $102.6bn - based on an original debt of $81.8bn plus interest - for the past three years.\n",
      "-------------------------------------------\n",
      "9 . Original:  ['Circuit City gets takeover offer\\n', '\\n', 'Circuit City Stores, the second-largest electronics retailer in the US, has received a $3.25bn (£1.7bn) takeover offer.\\n', '\\n', \"The bid has come from Boston-based private investment firm Highfields Capital Management, which already owns 6.7% of Circuit City's shares. Shares in the retailer were up 19.6% at $17.04 in Tuesday morning trading in New York following the announcement. Highfield said that it intends to take the Virginia-based firm private.\\n\", '\\n', '\"Such a transformation would eliminate the public-company transparency into the company\\'s operating strategy that is uniquely damaging in a highly competitive industry where Circuit City is going head-to-head with a tough and entrenched rival,\" Highfield said. One analyst suggested that a bidding battle may now begin for the company. Bill Armstrong, a retail analyst at CL King & Associates, said he expected to see other private investment firms come forward for Circuit City. The retailer is debt free with a good cash flow, despite the fact that it is said to be struggling to keep up with market leader Best Buy and cut-price competition from the likes of Wal-Mart, said Mr Armstrong.\\n'] \n",
      "\n",
      "Summary:  The bid has come from Boston-based private investment firm Highfields Capital Management, which already owns 6.7% of Circuit City's shares.\n",
      "Bill Armstrong, a retail analyst at CL King & Associates, said he expected to see other private investment firms come forward for Circuit City.\n",
      "-------------------------------------------\n",
      "10 . Original:  ['Euronext joins bid battle for LSE\\n', '\\n', 'Pan-European stock market Euronext has approached the London Stock Exchange (LSE) about a possible takeover bid.\\n', '\\n', '\"The approach is at an early stage and therefore does not require a response at this point,\" LSE said. Talks with the European stock market and with rival bidder Deutsche Boerse will continue, the LSE said. Last week, the group rejected a £1.3bn ($2.5bn) takeover offer from Deutsche Boerse, claiming that it undervalued the business. LSE saw its shares surge 4.9% to a new high of 583p in early trade, following the announcement on Monday.\\n', '\\n', \"The offer follows widespread media speculation that Euronext would make an offer for LSE. Experts now widely expect a bidding war for Europe's biggest stock market, which lists stocks with a total capitalisation of £1.4 trillion, to break out. Commentators say that a deal with Euronext, which owns the Liffe derivatives exchange in London and combines the Paris, Amsterdam and Lisbon stock exchanges, could potentially offer the LSE more cost savings than a deal with Deutsche Boerse.\\n\", '\\n', 'A weekend report in the Telegraph had quoted an unnamed executive at Euronext as saying the group would make a cash bid to trump Deutsche Boerse\\'s offer. \"Because we already own Liffe in London, the cost savings available to us from a merger are far greater than for Deutsche Boerse,\" the newspaper quoted the executive as saying. Euronext chief executive Jean-Francois Theodore is reported to have already held private talks with LSE\\'s chief executive Clara Furse. Further reports had suggested that Euronext could make an offer in excess of the LSE\\'s 533p a share closing price on Friday. However, Euronext said it could not guarantee \"at this stage\" that a firm offer would be made for LSE. There has been extensive speculation about a possible takeover of the company since an attempted merger with Deutsche Boerse failed in 2000.\\n'] \n",
      "\n",
      "Summary:  Pan-European stock market Euronext has approached the London Stock Exchange (LSE) about a possible takeover bid.\n",
      "Commentators say that a deal with Euronext, which owns the Liffe derivatives exchange in London and combines the Paris, Amsterdam and Lisbon stock exchanges, could potentially offer the LSE more cost savings than a deal with Deutsche Boerse.\n",
      "A weekend report in the Telegraph had quoted an unnamed executive at Euronext as saying the group would make a cash bid to trump Deutsche Boerse's offer.\n",
      "-------------------------------------------\n"
     ]
    }
   ],
   "source": [
    "count = 1\n",
    "for i in number:\n",
    "    text = ' '.join(documents[i])\n",
    "    print(count, '.', 'Original: ', documents[i], '\\n')\n",
    "    print('Summary: ', summarize(text, ratio=0.25))\n",
    "    count +=1\n",
    "    print('-------------------------------------------')"
   ]
  }
 ],
 "metadata": {
  "kernelspec": {
   "display_name": "Python 3",
   "language": "python",
   "name": "python3"
  },
  "language_info": {
   "codemirror_mode": {
    "name": "ipython",
    "version": 3
   },
   "file_extension": ".py",
   "mimetype": "text/x-python",
   "name": "python",
   "nbconvert_exporter": "python",
   "pygments_lexer": "ipython3",
   "version": "3.11.2 (tags/v3.11.2:878ead1, Feb  7 2023, 16:38:35) [MSC v.1934 64 bit (AMD64)]"
  },
  "orig_nbformat": 4,
  "vscode": {
   "interpreter": {
    "hash": "d417a21d97a2e6b8832d21dc44f5cbe4be6e18325f874a8bb8484565b928cd54"
   }
  }
 },
 "nbformat": 4,
 "nbformat_minor": 2
}
