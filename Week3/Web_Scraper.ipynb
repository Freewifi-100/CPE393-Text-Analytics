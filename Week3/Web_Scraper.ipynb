{
 "cells": [
  {
   "cell_type": "markdown",
   "metadata": {},
   "source": [
    "# Text Analytics\n",
    "### Web Scraper\n",
    "\n",
    "---"
   ]
  },
  {
   "cell_type": "markdown",
   "metadata": {},
   "source": [
    "### 1. Downloading and interpreting robots.txt"
   ]
  },
  {
   "cell_type": "code",
   "execution_count": 29,
   "metadata": {},
   "outputs": [
    {
     "name": "stdout",
     "output_type": "stream",
     "text": [
      "\n",
      "User-agent: *\n",
      "Disallow: /wp-admin/\n",
      "Allow: /wp-admin/admin-ajax.php\n",
      "\n",
      "Sitemap: https://www.kmutt.ac.th/wp-sitemap.xml\n",
      "\n"
     ]
    }
   ],
   "source": [
    "from urllib.request import urlopen\n",
    "res = urlopen(\"https://www.kmutt.ac.th/robots.txt\")\n",
    "print(res.read().decode('utf-8'))"
   ]
  },
  {
   "cell_type": "code",
   "execution_count": 30,
   "metadata": {},
   "outputs": [
    {
     "data": {
      "text/plain": [
       "True"
      ]
     },
     "execution_count": 30,
     "metadata": {},
     "output_type": "execute_result"
    }
   ],
   "source": [
    "import urllib.robotparser\n",
    "\n",
    "rp = urllib.robotparser.RobotFileParser()\n",
    "rp.set_url(\"https://www.kmutt.ac.th/robots.txt\")\n",
    "rp.read()\n",
    "rp.can_fetch(\"*\",\"https://www.kmutt.ac.th/wp-sitemap.xml\")"
   ]
  },
  {
   "cell_type": "code",
   "execution_count": 31,
   "metadata": {},
   "outputs": [
    {
     "data": {
      "text/plain": [
       "['https://www.kmutt.ac.th/wp-sitemap.xml']"
      ]
     },
     "execution_count": 31,
     "metadata": {},
     "output_type": "execute_result"
    }
   ],
   "source": [
    "rp.site_maps()"
   ]
  },
  {
   "cell_type": "markdown",
   "metadata": {},
   "source": [
    "### Selenium"
   ]
  },
  {
   "cell_type": "code",
   "execution_count": 32,
   "metadata": {},
   "outputs": [],
   "source": [
    "from selenium import webdriver\n",
    "from selenium.webdriver.common.keys import Keys\n",
    "from selenium.webdriver.chrome.service import Service\n",
    "from selenium.webdriver.chrome.options import Options\n",
    "from time import sleep\n",
    "import re\n",
    "import pandas as pd\n",
    "import os\n",
    "from bs4 import BeautifulSoup\n",
    "\n",
    "option = Options()\n",
    "\n",
    "# disable image\n",
    "prefs = {\"profile.managed_default_content_settings.images\": 2}\n",
    "option.add_experimental_option(\"prefs\", prefs)\n",
    "\n",
    "\n",
    "path = os.getcwd()\n",
    "service = Service(path + \"//chromedriver.exe\")\n",
    "\n",
    "driver = webdriver.Chrome(service=service)\n",
    "soup = BeautifulSoup(driver.page_source, 'html.parser')\n",
    "#driver.implicitly_wait(5)"
   ]
  },
  {
   "cell_type": "markdown",
   "metadata": {},
   "source": [
    "### Beautiful soup"
   ]
  },
  {
   "cell_type": "code",
   "execution_count": 40,
   "metadata": {},
   "outputs": [],
   "source": [
    "# get url in url = \"https://www.kmutt.ac.th/\"\n",
    "from selenium.webdriver.common.by import By\n",
    "def find_links(url):\n",
    "    driver.get(url)\n",
    "    sleep(0.05)\n",
    "    links = []\n",
    "    link = driver.find_elements(By.TAG_NAME, \"a\")\n",
    "    for i in link:\n",
    "        if i.get_attribute(\"href\") != None:\n",
    "            #if not start with http let add url\n",
    "            if not i.get_attribute(\"href\").startswith(\"http\"):\n",
    "                links.append(url + i.get_attribute(\"href\"))\n",
    "                \n",
    "            else:\n",
    "                links.append(i.get_attribute(\"href\"))\n",
    "        else:\n",
    "            pass\n",
    "    return links\n",
    "\n",
    "def find_link_in_list(links):\n",
    "    all_links = [] \n",
    "    for i in links:\n",
    "        try:\n",
    "            l = find_links(i)\n",
    "            all_links.extend(l)\n",
    "            count += 1\n",
    "            if len(links) == 0:\n",
    "                break\n",
    "        except:\n",
    "             pass\n",
    "    return all_links\n",
    "\n",
    "keep = []\n",
    "keep = find_links(\"https://www.kmutt.ac.th/\")\n",
    "\n",
    "result = []\n",
    "result = find_link_in_list(keep)\n",
    "# remove duplicate\n",
    "result = list(dict.fromkeys(result))\n"
   ]
  },
  {
   "cell_type": "code",
   "execution_count": 42,
   "metadata": {},
   "outputs": [
    {
     "data": {
      "text/plain": [
       "3009"
      ]
     },
     "execution_count": 42,
     "metadata": {},
     "output_type": "execute_result"
    }
   ],
   "source": [
    "len(result)"
   ]
  },
  {
   "cell_type": "markdown",
   "metadata": {},
   "source": [
    "### 1. Web Spider dataFrame, must at least comtain 2 columns ['form', 'to']\n",
    "- from : The original URl cntains taht link tha first time\n",
    "- to : The extracted URL"
   ]
  },
  {
   "cell_type": "code",
   "execution_count": 44,
   "metadata": {},
   "outputs": [],
   "source": [
    "#split by '//'\n",
    "link_split = []\n",
    "for i in result:\n",
    "    link_split.append(i.split('//'))\n",
    "\n",
    "#split by '/'\n",
    "link_split2 = []\n",
    "for i in link_split:\n",
    "    link_split2.append(i[1].split('/'))\n",
    "    # if end with '/' then remove it\n",
    "    if link_split2[-1][-1] == '':\n",
    "        link_split2[-1].pop()\n",
    "\n",
    "#link_split2"
   ]
  },
  {
   "cell_type": "code",
   "execution_count": 45,
   "metadata": {},
   "outputs": [
    {
     "name": "stdout",
     "output_type": "stream",
     "text": [
      "7250\n",
      "3226\n"
     ]
    }
   ],
   "source": [
    "# accumulate all link until last\n",
    "link_from = []\n",
    "link_to = []\n",
    "for i in link_split2:\n",
    "    for j in range(len(i)-1):\n",
    "        link_from.append('/'.join(i[:j+1]))\n",
    "        link_to.append('/'.join(i[:j+2]))\n",
    "\n",
    "# create dataframe\n",
    "df_1 = pd.DataFrame({'from':link_from, 'to':link_to})\n",
    "print(len(df_1))\n",
    "df_1 = df_1.drop_duplicates()\n",
    "print(len(df_1))\n",
    "#save to csv\n",
    "df_1.to_csv('link.csv', index=False)"
   ]
  },
  {
   "cell_type": "code",
   "execution_count": 46,
   "metadata": {},
   "outputs": [
    {
     "data": {
      "text/html": [
       "<div>\n",
       "<style scoped>\n",
       "    .dataframe tbody tr th:only-of-type {\n",
       "        vertical-align: middle;\n",
       "    }\n",
       "\n",
       "    .dataframe tbody tr th {\n",
       "        vertical-align: top;\n",
       "    }\n",
       "\n",
       "    .dataframe thead th {\n",
       "        text-align: right;\n",
       "    }\n",
       "</style>\n",
       "<table border=\"1\" class=\"dataframe\">\n",
       "  <thead>\n",
       "    <tr style=\"text-align: right;\">\n",
       "      <th></th>\n",
       "      <th>from</th>\n",
       "      <th>to</th>\n",
       "    </tr>\n",
       "  </thead>\n",
       "  <tbody>\n",
       "    <tr>\n",
       "      <th>0</th>\n",
       "      <td>www.kmutt.ac.th</td>\n",
       "      <td>www.kmutt.ac.th/en</td>\n",
       "    </tr>\n",
       "    <tr>\n",
       "      <th>1</th>\n",
       "      <td>www.kmutt.ac.th/en</td>\n",
       "      <td>www.kmutt.ac.th/en/education</td>\n",
       "    </tr>\n",
       "    <tr>\n",
       "      <th>2</th>\n",
       "      <td>www.kmutt.ac.th/en/education</td>\n",
       "      <td>www.kmutt.ac.th/en/education/kmutt-life</td>\n",
       "    </tr>\n",
       "    <tr>\n",
       "      <th>3</th>\n",
       "      <td>www.kmutt.ac.th/en/education/kmutt-life</td>\n",
       "      <td>www.kmutt.ac.th/en/education/kmutt-life/tel:+6...</td>\n",
       "    </tr>\n",
       "    <tr>\n",
       "      <th>4</th>\n",
       "      <td>gmi.kmutt.ac.th</td>\n",
       "      <td>gmi.kmutt.ac.th/course</td>\n",
       "    </tr>\n",
       "    <tr>\n",
       "      <th>...</th>\n",
       "      <td>...</td>\n",
       "      <td>...</td>\n",
       "    </tr>\n",
       "    <tr>\n",
       "      <th>7240</th>\n",
       "      <td>eds.kmutt.ac.th/curriculum/courses-offered</td>\n",
       "      <td>eds.kmutt.ac.th/curriculum/courses-offered/seem</td>\n",
       "    </tr>\n",
       "    <tr>\n",
       "      <th>7241</th>\n",
       "      <td>www.facebook.com</td>\n",
       "      <td>www.facebook.com/allactivity?privacy_source=ac...</td>\n",
       "    </tr>\n",
       "    <tr>\n",
       "      <th>7244</th>\n",
       "      <td>www.kmutt.ac.th/internationalization/inter-news</td>\n",
       "      <td>www.kmutt.ac.th/internationalization/inter-new...</td>\n",
       "    </tr>\n",
       "    <tr>\n",
       "      <th>7247</th>\n",
       "      <td>www.kmutt.ac.th/internationalization/global-pa...</td>\n",
       "      <td>www.kmutt.ac.th/internationalization/global-pa...</td>\n",
       "    </tr>\n",
       "    <tr>\n",
       "      <th>7249</th>\n",
       "      <td>www.kmutt.ac.th/news</td>\n",
       "      <td>www.kmutt.ac.th/news/7th-annual-conference-of-...</td>\n",
       "    </tr>\n",
       "  </tbody>\n",
       "</table>\n",
       "<p>3226 rows × 2 columns</p>\n",
       "</div>"
      ],
      "text/plain": [
       "                                                   from  \\\n",
       "0                                       www.kmutt.ac.th   \n",
       "1                                    www.kmutt.ac.th/en   \n",
       "2                          www.kmutt.ac.th/en/education   \n",
       "3               www.kmutt.ac.th/en/education/kmutt-life   \n",
       "4                                       gmi.kmutt.ac.th   \n",
       "...                                                 ...   \n",
       "7240         eds.kmutt.ac.th/curriculum/courses-offered   \n",
       "7241                                   www.facebook.com   \n",
       "7244    www.kmutt.ac.th/internationalization/inter-news   \n",
       "7247  www.kmutt.ac.th/internationalization/global-pa...   \n",
       "7249                               www.kmutt.ac.th/news   \n",
       "\n",
       "                                                     to  \n",
       "0                                    www.kmutt.ac.th/en  \n",
       "1                          www.kmutt.ac.th/en/education  \n",
       "2               www.kmutt.ac.th/en/education/kmutt-life  \n",
       "3     www.kmutt.ac.th/en/education/kmutt-life/tel:+6...  \n",
       "4                                gmi.kmutt.ac.th/course  \n",
       "...                                                 ...  \n",
       "7240    eds.kmutt.ac.th/curriculum/courses-offered/seem  \n",
       "7241  www.facebook.com/allactivity?privacy_source=ac...  \n",
       "7244  www.kmutt.ac.th/internationalization/inter-new...  \n",
       "7247  www.kmutt.ac.th/internationalization/global-pa...  \n",
       "7249  www.kmutt.ac.th/news/7th-annual-conference-of-...  \n",
       "\n",
       "[3226 rows x 2 columns]"
      ]
     },
     "execution_count": 46,
     "metadata": {},
     "output_type": "execute_result"
    }
   ],
   "source": [
    "df_1"
   ]
  },
  {
   "cell_type": "markdown",
   "metadata": {},
   "source": [
    "### 2. Content DataFrame. Must at least contain 3 columns\n",
    "- no : running number (index) of this table\n",
    "- url : The URL (only those from the KMUTT website)\n",
    "- content : Text content"
   ]
  },
  {
   "cell_type": "code",
   "execution_count": 47,
   "metadata": {},
   "outputs": [
    {
     "data": {
      "text/html": [
       "<div>\n",
       "<style scoped>\n",
       "    .dataframe tbody tr th:only-of-type {\n",
       "        vertical-align: middle;\n",
       "    }\n",
       "\n",
       "    .dataframe tbody tr th {\n",
       "        vertical-align: top;\n",
       "    }\n",
       "\n",
       "    .dataframe thead th {\n",
       "        text-align: right;\n",
       "    }\n",
       "</style>\n",
       "<table border=\"1\" class=\"dataframe\">\n",
       "  <thead>\n",
       "    <tr style=\"text-align: right;\">\n",
       "      <th></th>\n",
       "      <th>url</th>\n",
       "      <th>content</th>\n",
       "    </tr>\n",
       "  </thead>\n",
       "  <tbody>\n",
       "    <tr>\n",
       "      <th>0</th>\n",
       "      <td>https://www.kmutt.ac.th/en/education/kmutt-lif...</td>\n",
       "      <td>[มหาวิทยาลัยเทคโนโลยีพระจอมเกล้าธนบุรี\\nKing M...</td>\n",
       "    </tr>\n",
       "    <tr>\n",
       "      <th>1</th>\n",
       "      <td>https://gmi.kmutt.ac.th/course</td>\n",
       "      <td>[None, None, None, None, None, None, None, Non...</td>\n",
       "    </tr>\n",
       "    <tr>\n",
       "      <th>2</th>\n",
       "      <td>https://www.kmutt.ac.th/internationalization/m...</td>\n",
       "      <td>[มหาวิทยาลัยเทคโนโลยีพระจอมเกล้าธนบุรี\\nKing M...</td>\n",
       "    </tr>\n",
       "    <tr>\n",
       "      <th>3</th>\n",
       "      <td>https://www.kmutt.ac.th/event/tiny-hotel/</td>\n",
       "      <td>[มหาวิทยาลัยเทคโนโลยีพระจอมเกล้าธนบุรี\\nKing M...</td>\n",
       "    </tr>\n",
       "    <tr>\n",
       "      <th>4</th>\n",
       "      <td>https://youtu.be/1TyM7hXRzhQ</td>\n",
       "      <td>None</td>\n",
       "    </tr>\n",
       "    <tr>\n",
       "      <th>...</th>\n",
       "      <td>...</td>\n",
       "      <td>...</td>\n",
       "    </tr>\n",
       "    <tr>\n",
       "      <th>3004</th>\n",
       "      <td>https://www.facebook.com/allactivity?privacy_s...</td>\n",
       "      <td>None</td>\n",
       "    </tr>\n",
       "    <tr>\n",
       "      <th>3005</th>\n",
       "      <td>https://www.kmutt.ac.th/internationalization/i...</td>\n",
       "      <td>None</td>\n",
       "    </tr>\n",
       "    <tr>\n",
       "      <th>3006</th>\n",
       "      <td>https://www.kmutt.ac.th/internationalization/g...</td>\n",
       "      <td>None</td>\n",
       "    </tr>\n",
       "    <tr>\n",
       "      <th>3007</th>\n",
       "      <td>https://www.kmutt.ac.th/news/7th-annual-confer...</td>\n",
       "      <td>None</td>\n",
       "    </tr>\n",
       "    <tr>\n",
       "      <th>3008</th>\n",
       "      <td>http://pam.kmutt.ac.th/</td>\n",
       "      <td>None</td>\n",
       "    </tr>\n",
       "  </tbody>\n",
       "</table>\n",
       "<p>3009 rows × 2 columns</p>\n",
       "</div>"
      ],
      "text/plain": [
       "                                                    url  \\\n",
       "0     https://www.kmutt.ac.th/en/education/kmutt-lif...   \n",
       "1                        https://gmi.kmutt.ac.th/course   \n",
       "2     https://www.kmutt.ac.th/internationalization/m...   \n",
       "3             https://www.kmutt.ac.th/event/tiny-hotel/   \n",
       "4                          https://youtu.be/1TyM7hXRzhQ   \n",
       "...                                                 ...   \n",
       "3004  https://www.facebook.com/allactivity?privacy_s...   \n",
       "3005  https://www.kmutt.ac.th/internationalization/i...   \n",
       "3006  https://www.kmutt.ac.th/internationalization/g...   \n",
       "3007  https://www.kmutt.ac.th/news/7th-annual-confer...   \n",
       "3008                            http://pam.kmutt.ac.th/   \n",
       "\n",
       "                                                content  \n",
       "0     [มหาวิทยาลัยเทคโนโลยีพระจอมเกล้าธนบุรี\\nKing M...  \n",
       "1     [None, None, None, None, None, None, None, Non...  \n",
       "2     [มหาวิทยาลัยเทคโนโลยีพระจอมเกล้าธนบุรี\\nKing M...  \n",
       "3     [มหาวิทยาลัยเทคโนโลยีพระจอมเกล้าธนบุรี\\nKing M...  \n",
       "4                                                  None  \n",
       "...                                                 ...  \n",
       "3004                                               None  \n",
       "3005                                               None  \n",
       "3006                                               None  \n",
       "3007                                               None  \n",
       "3008                                               None  \n",
       "\n",
       "[3009 rows x 2 columns]"
      ]
     },
     "execution_count": 47,
     "metadata": {},
     "output_type": "execute_result"
    }
   ],
   "source": [
    "def content(url):\n",
    "    driver.get(url)\n",
    "    sleep(0.05)\n",
    "    content = driver.find_elements(By.TAG_NAME, \"div\")\n",
    "    text = []\n",
    "    for i in content:\n",
    "        if i.text != '':\n",
    "            text.append(i.text)\n",
    "        else:\n",
    "            text.append(None)\n",
    "    return text\n",
    "\n",
    "# get content\n",
    "content_list = []\n",
    "for i in result:\n",
    "    try:\n",
    "        content_list.append(content(i))\n",
    "    except:\n",
    "        content_list.append(None)\n",
    "        pass\n",
    "\n",
    "# create dataframe\n",
    "df_2 = pd.DataFrame({'url':result, 'content':content_list})\n",
    "df_2"
   ]
  },
  {
   "cell_type": "code",
   "execution_count": null,
   "metadata": {},
   "outputs": [],
   "source": [
    "# save to csv\n",
    "df_2.to_csv('content.csv', index=False)"
   ]
  }
 ],
 "metadata": {
  "kernelspec": {
   "display_name": "Python 3",
   "language": "python",
   "name": "python3"
  },
  "language_info": {
   "codemirror_mode": {
    "name": "ipython",
    "version": 3
   },
   "file_extension": ".py",
   "mimetype": "text/x-python",
   "name": "python",
   "nbconvert_exporter": "python",
   "pygments_lexer": "ipython3",
   "version": "3.11.2 (tags/v3.11.2:878ead1, Feb  7 2023, 16:38:35) [MSC v.1934 64 bit (AMD64)]"
  },
  "orig_nbformat": 4,
  "vscode": {
   "interpreter": {
    "hash": "d417a21d97a2e6b8832d21dc44f5cbe4be6e18325f874a8bb8484565b928cd54"
   }
  }
 },
 "nbformat": 4,
 "nbformat_minor": 2
}
